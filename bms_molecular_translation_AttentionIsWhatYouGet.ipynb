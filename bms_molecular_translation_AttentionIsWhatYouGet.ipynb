{
  "nbformat": 4,
  "nbformat_minor": 0,
  "metadata": {
    "colab": {
      "name": "bms_molecular_translation-AttentionIsWhatYouGet.ipynb",
      "provenance": [],
      "collapsed_sections": [
        "jvew4SZuM33i",
        "htI5m-W2uJmx",
        "csshw-ehbeQY"
      ],
      "machine_shape": "hm",
      "include_colab_link": true
    },
    "kernelspec": {
      "display_name": "Python 3",
      "language": "python",
      "name": "python3"
    },
    "language_info": {
      "codemirror_mode": {
        "name": "ipython",
        "version": 3
      },
      "file_extension": ".py",
      "mimetype": "text/x-python",
      "name": "python",
      "nbconvert_exporter": "python",
      "pygments_lexer": "ipython3",
      "version": "3.7.10"
    },
    "accelerator": "TPU"
  },
  "cells": [
    {
      "cell_type": "markdown",
      "metadata": {
        "id": "view-in-github",
        "colab_type": "text"
      },
      "source": [
        "<a href=\"https://colab.research.google.com/github/mvenouziou/Project-Attention-Is-What-You-Get/blob/main/bms_molecular_translation_AttentionIsWhatYouGet.ipynb\" target=\"_parent\"><img src=\"https://colab.research.google.com/assets/colab-badge.svg\" alt=\"Open In Colab\"/></a>"
      ]
    },
    {
      "cell_type": "markdown",
      "metadata": {
        "id": "Zujis6hSUc0o"
      },
      "source": [
        "# Attention is What You Get\n",
        "\n",
        "This is my entry into the [Bristol-Myers Squibb Molecular Translation](https://www.kaggle.com/c/bms-molecular-translation)  Kaggle competition.\n",
        "\n",
        "-----\n",
        "\n",
        "AUTHOR: \n",
        "\n",
        "Mo Venouziou\n",
        "\n",
        "- *Email: mvenouziou@gmail.com*\n",
        "- *LinkedIn: www.linkedin.com/in/movenouziou/*\n",
        "\n",
        "Updates:\n",
        "\n",
        " - *Original Posting: June 2, 2021*\n",
        " - *07/04/21: fixed kaggle compat issues*\n",
        " - *06/25/21: fixed conv decoder layers*\n",
        " - *06/21/21: added TPU compatability*\n",
        " - *06/17/21: improved training & inference speed. Allows full AIAYN model size on TPU, although my experiments show that limited memory capacity is better served with smaller transformers and larger image encoding steps.*\n",
        "\n",
        "----"
      ]
    },
    {
      "cell_type": "markdown",
      "metadata": {
        "id": "jvew4SZuM33i"
      },
      "source": [
        "### Our Goal: Predict the \"InChI\" value of any given chemical compound diagram. \n",
        "\n",
        "International Chemical Identifiers (\"InChI values\") are a standardized encoding to describe chemical compounds. They take the form of a string of letters, numbers and deliminators, often between 100 - 400 characters long. \n",
        "\n",
        "The chemical diagrams are provided as PNG files, often of such low quality that it may take a human several seconds to decipher. \n",
        "\n",
        "Label length and image quality become a serious challenge here, because we must predict labels for a very large quantity of images. There are 1.6 million images in the test set abd 2.4 million images available in the training set!"
      ]
    },
    {
      "cell_type": "code",
      "metadata": {
        "colab": {
          "base_uri": "https://localhost:8080/",
          "height": 129
        },
        "id": "Obx8tqy_ICG0",
        "outputId": "86ae4732-e644-47a6-f82d-043e8c4a4b57"
      },
      "source": [
        "\"\"\"\n",
        "# Example (image, target label) pair\\n\\n'\n",
        "for val in train_ds.unbatch().take(1):\n",
        "    print('Example Label:\\n', val['InChI'].numpy())\n",
        "    print('\\nCorresponding Image:', plt.imshow(val['image'][:,:,0], cmap='binary'))\n",
        "### note: load datasets before running this cell\n",
        "\"\"\""
      ],
      "execution_count": 49,
      "outputs": [
        {
          "output_type": "error",
          "ename": "SyntaxError",
          "evalue": "ignored",
          "traceback": [
            "\u001b[0;36m  File \u001b[0;32m\"<ipython-input-49-7194e15ba677>\"\u001b[0;36m, line \u001b[0;32m7\u001b[0m\n\u001b[0;31m    \"\"\"\u001b[0m\n\u001b[0m       ^\u001b[0m\n\u001b[0;31mSyntaxError\u001b[0m\u001b[0;31m:\u001b[0m EOF while scanning triple-quoted string literal\n"
          ]
        }
      ]
    },
    {
      "cell_type": "markdown",
      "metadata": {
        "id": "xTzwOF_khY65"
      },
      "source": [
        "## MODEL STRUCTURE: \n",
        "\n",
        "**Image CNN + Attention Features encoder --> text Attention + (optional )CNN feature layer decoder.**\n",
        "\n",
        "This is a hybrid approach with:\n",
        " \n",
        " - Image Encoder strategy from [*Show, Attend and Tell: Neural Image Caption Generation with Visual Attention*](https://proceedings.mlr.press/v37/xuc15.pdf).  Generate image feature vectors using intermediate layer outputs from a pretrained CNN. (Here I use the more modern EfficientNet model (recommended by [*Darien Schettler*](https://www.kaggle.com/dschettler8845/bms-efficientnetv2-tpu-e2e-pipeline-in-3hrs/notebook)) with final layer before head, fixed weights and a trainable Dense layer for tuning.)\n",
        " \n",
        " - Transformer encoder-decoder model from [*All You Need is Attention*](https://papers.nips.cc/paper/2017/file/3f5ee243547dee91fbd053c1c4a845aa-Paper.pdf) (Self-attention feature extraction for both encoder and decoder, joint encoder-decoder attention feature interactions, and a dense prediction output block. Includes parameters to control number of encoder / decoder blocks.)\n",
        "\n",
        " - ***PLUS*** *(optional):* Decoder Output Blocks placed in Series (not stacked). Increase the number of trainable parameters without adding inference computational complexity, while also allowing decoders to specialize on different regions of the output.\n",
        " \n",
        " - ***PLUS*** *(optional):* Is attention really all you need? Add a convolutional layer to enhance text features before decoder self-attention to experiment with performance differences with and without extra convolutional layer(s). Use of CNN's in NLP comes from [*Convolutional Sequence to Sequence Learning*](http://proceedings.mlr.press/v70/gehring17a.html.)\n",
        "\n",
        " - ***PLUS*** *(optional):* Beam-Search Alternative, an extra decoding layer applied after the full logits prediction has been made. This takes the form of a bidirectional RNN with attention, applied to the full logits sequence. Because a full (initial) prediction has already been made, computations can be parallelized using statefull RNNs. (See more details below.)\n",
        "\n",
        "----\n",
        "\n",
        "## NEXT STEPS:\n",
        "\n",
        " - Experiment with **\"Tokens-to-Token ViT\"** in place of the image CNN. (Technique from [*Training Vision Transformers from Scratch on ImageNet*](https://arxiv.org/pdf/2101.11986.pdf)\n",
        "  \n",
        " - Train my **Beam-search Alternative**. \n",
        "\n",
        "    - Beam search is a technique to modify model predictions to reflect the (local) maximum likelihood estimate. However, it is *very* local in that computation expense increases quickly with the number of character steps taken into account. This is also a hard-coded algorithm, which is somewhat contrary to the philosophy of deep learning.\n",
        "\n",
        "    - A *Beam-search Alternative* would be an extra decoding layer applied *after* the full logits prediction has been made. This might be in the form of a stateful, bidirectional RNN that is computationally parallizable because it is applied to the full logits sequence.\n",
        "\n",
        "    - Need to revamp code to accept main model changes made for TPU support.\n",
        "\n",
        " - Treat the number of convolutional layers (decoder feature extraction) and number of decoders places in series (decoder prediction output) as **new hyperparameters** to tune.\n",
        "\n",
        " - *6/21/21: TPU Support added* ~~Implement TPU compatability.~~\n",
        "\n",
        " - *6/17/21: Increased model size and efficiency. * ~~ Improve code to have capacity for full size model (matching AISYN) with more efficient training and inference speeds for the large dataset. (TPU required. GPU doesn't have enough memory to train such a large model.)~~\n",
        "\n",
        "----"
      ]
    },
    {
      "cell_type": "markdown",
      "metadata": {
        "id": "htI5m-W2uJmx"
      },
      "source": [
        "### CITATIONS\n",
        "\n",
        "- \"Attention is All You Need.\" \n",
        " - Ashish Vaswani, Noam Shazeer, Niki Parmar, Jakob Uszkoreit, Llion Jones, Aidan N. Gomez, Lukasz Kaiser, Illia Polosukhin. NIPS (2017). *https://research.google/pubs/pub46201/*\n",
        "\n",
        "- \"Convolutional Sequence to Sequence Learning.\"\n",
        " \n",
        "  - Gehring, J., Auli, M., Grangier, D., Yarats, D. & Dauphin, Y.N.. (2017). Convolutional Sequence to Sequence Learning. Proceedings of the 34th International Conference on Machine Learning, in Proceedings of Machine Learning Research 70:1243-1252, *http://proceedings.mlr.press/v70/gehring17a.html.*\n",
        "\n",
        "\n",
        "- \"EfficientNet: Rethinking Model Scaling for Convolutional Neural Networks.\"\n",
        " \n",
        "  - Mingxing Tan, Quoc V. Le (2019). Convolutional Sequence to Sequence Learning. International Conference on Machine Learning. *http://arxiv.org/abs/1905.11946.*\n",
        "\n",
        "\n",
        "-  \"Show, Attend and Tell: Neural Image Caption Generation with Visual Attention.\"\n",
        "  -  Xu, K., Ba, J., Kiros, R., Cho, K., Courville, A., Salakhudinov, R., Zemel, R. & Bengio, Y.. (2015). Show, Attend and Tell: Neural Image Caption Generation with Visual Attention. Proceedings of the 32nd International Conference on Machine Learning, in Proceedings of Machine Learning Research 37:2048-2057. *http://proceedings.mlr.press/v37/xuc15.html.* \n",
        "            \n",
        "\n",
        "- \"Tokens-to-Token ViT: Training Vision Transformers from Scratch on ImageNet\"\n",
        "\n",
        "  - Li Yuan, Yunpeng Chen, Tao Wang, Weihao Yu, Yujun Shi, Zihang Jiang, Francis EH Tay, Jiashi Feng, Shuicheng Yan. Preprint (2021). *https://arxiv.org/abs/2101.11986*.\n",
        "\n",
        "- Tensorflow documentation tutorial \"Transformer model for language understanding.\" I found this after fully completing the model and found the attention mask was incorrect. My use of \"tf.linalg.band_part\" (only) is due to this tutorial. *www.tensorflow.org/text/tutorials/transformer#masking*\n",
        "\n",
        "- Special thanks to:\n",
        "\n",
        " -  [Darien Schettler](https://www.kaggle.com/dschettler8845/bms-efficientnetv2-tpu-e2e-pipeline-in-3hrs/notebook.) for leading readers to the \"Show\" and \"Attention\" papers cited above, using *session.run()* to improve inference speed in distributed settings and providing detailed info on creating TF Records. I also utilized his scores as performance benchmarks, testing against his results and experimenting with models that sometimes included his hyper-parameter choices, most significantly by dropping the encoder attention component altogether. (My model allows this by setting encoder_heads=0.) This work is otherwise derived independently from his.\n",
        "\n",
        " - [Qishen Ha Team](https://www.kaggle.com/c/bms-molecular-translation/discussion/243943) for sharing their structure results. I switched to larger input image dimensions based on their success with much larger values than I had previously used. However image and model size was *significantly* smaller than theirs due to Colab memory allowances vs their top of the line hardware.\n",
        "\n",
        "- It is possible my idea of a Beam Search Alternative is based on a lecture video from DeepLearning.ai's [Deep Learning Specialization](https://www.coursera.org/specializations/deep-learning)  on Coursera.\n",
        "\n",
        "- **Dataset / Kaggle Competition:** \"Bristol-Myers Squibb – Molecular Translation\" competition on Kaggle (2021). *https://www.kaggle.com/c/bms-molecular-translation*\n",
        "\n",
        "----\n"
      ]
    },
    {
      "cell_type": "markdown",
      "metadata": {
        "id": "csshw-ehbeQY"
      },
      "source": [
        "## Contents\n",
        "\n",
        "1. [Imports](https://colab.research.google.com/drive/1i6LMwu7BRfs955U4AdtV2oaI_9_A_Awq#scrollTo=TjuUOVXao__C&line=4&uniqifier=1)\n",
        "2. [Data Pipeline](https://colab.research.google.com/drive/1i6LMwu7BRfs955U4AdtV2oaI_9_A_Awq#scrollTo=lrLHKs5Ni7Sz)\n",
        "3. [Model Layers](https://colab.research.google.com/drive/1i6LMwu7BRfs955U4AdtV2oaI_9_A_Awq#scrollTo=W0T-u0vZamI8)\n",
        "    - [InChI Encoding](https://colab.research.google.com/drive/1i6LMwu7BRfs955U4AdtV2oaI_9_A_Awq#scrollTo=DYApmA2lf1hp&line=1&uniqifier=1)\n",
        "    - [Image Encoding and Self-Attention](https://colab.research.google.com/drive/1i6LMwu7BRfs955U4AdtV2oaI_9_A_Awq#scrollTo=FESofcGdEaWF&line=1&uniqifier=1)\n",
        "    - [Decoder Self-Attention](https://colab.research.google.com/drive/1i6LMwu7BRfs955U4AdtV2oaI_9_A_Awq#scrollTo=6qFDs9RTjvod&line=1&uniqifier=1)\n",
        "    - [Joint Encoder-Decoder Attention](https://colab.research.google.com/drive/1i6LMwu7BRfs955U4AdtV2oaI_9_A_Awq#scrollTo=jP-t1MkKnD5L)\n",
        "    - [Decoder Head (Prediction Output)](https://colab.research.google.com/drive/1i6LMwu7BRfs955U4AdtV2oaI_9_A_Awq#scrollTo=38GA7wtNEhqW&line=1&uniqifier=1)\n",
        "    - [Update Mechanism](https://colab.research.google.com/drive/1i6LMwu7BRfs955U4AdtV2oaI_9_A_Awq#scrollTo=_2UR1DLljD0S&line=1&uniqifier=1)\n",
        "4. [Full Model](https://colab.research.google.com/drive/1i6LMwu7BRfs955U4AdtV2oaI_9_A_Awq#scrollTo=D6GIs3f3rpu0&line=1&uniqifier=1)\n",
        "5. [Training](https://colab.research.google.com/drive/1i6LMwu7BRfs955U4AdtV2oaI_9_A_Awq#scrollTo=otxdN02mf1ht&line=1&uniqifier=1)\n",
        "6. [Inference](https://colab.research.google.com/drive/1i6LMwu7BRfs955U4AdtV2oaI_9_A_Awq#scrollTo=Sbvzr5rdmjgs&line=5&uniqifier=1)\n",
        "\n",
        "---"
      ]
    },
    {
      "cell_type": "code",
      "metadata": {
        "id": "TjuUOVXao__C",
        "colab": {
          "base_uri": "https://localhost:8080/"
        },
        "outputId": "353cdcf3-b1a7-434f-ce62-2f1caa5ee1a4"
      },
      "source": [
        "#### PACKAGE IMPORTS ####\n",
        "\n",
        "# system management\n",
        "import os\n",
        "os.environ['TF_ENABLE_ONEDNN.OPTS'] = '1'  # Intel's TF optimization\n",
        "\n",
        "# TF Model design\n",
        "import tensorflow as tf\n",
        "from tensorflow import keras\n",
        "import tensorflow_hub as hub\n",
        "from tensorflow.data import TFRecordDataset\n",
        "from tensorflow.data.experimental import TFRecordWriter\n",
        "\n",
        "# Text processing\n",
        "import re\n",
        "import string\n",
        "\n",
        "# metric for Kaggle Competition\n",
        "!pip install -q leven\n",
        "from leven import levenshtein\n",
        "\n",
        "# Kaggle (for TPU)\n",
        "#from kaggle_datasets import KaggleDatasets\n",
        "\n",
        "# Visualizations\n",
        "import matplotlib.pyplot as plt\n",
        "%matplotlib inline\n",
        "from PIL import Image\n",
        "\n",
        "# Tensorboard Profiler\n",
        "!pip install -U -q tensorboard\n",
        "!pip install -U -q tensorboard_plugin_profile\n",
        "!pip install --upgrade -q \"cloud-tpu-profiler>=2.3.0\"\n",
        "%load_ext tensorboard\n",
        "\n",
        "\"\"\"\n",
        "# Debugger\n",
        "tf.debugging.experimental.enable_dump_debug_info('./logs/', tensor_debug_mode=\"FULL_HEALTH\", \n",
        "                                                 circular_buffer_size=-1)\n",
        "\"\"\"\n",
        "\n",
        "# data management\n",
        "import numpy as np\n",
        "import pandas as pd\n",
        "import itertools"
      ],
      "execution_count": 1,
      "outputs": [
        {
          "output_type": "stream",
          "text": [
            "\u001b[?25l\r\u001b[K     |██▏                             | 10kB 25.7MB/s eta 0:00:01\r\u001b[K     |████▎                           | 20kB 16.3MB/s eta 0:00:01\r\u001b[K     |██████▍                         | 30kB 10.7MB/s eta 0:00:01\r\u001b[K     |████████▌                       | 40kB 8.8MB/s eta 0:00:01\r\u001b[K     |██████████▋                     | 51kB 5.0MB/s eta 0:00:01\r\u001b[K     |████████████▊                   | 61kB 5.4MB/s eta 0:00:01\r\u001b[K     |██████████████▉                 | 71kB 5.9MB/s eta 0:00:01\r\u001b[K     |█████████████████               | 81kB 6.1MB/s eta 0:00:01\r\u001b[K     |███████████████████             | 92kB 6.5MB/s eta 0:00:01\r\u001b[K     |█████████████████████▏          | 102kB 6.7MB/s eta 0:00:01\r\u001b[K     |███████████████████████▎        | 112kB 6.7MB/s eta 0:00:01\r\u001b[K     |█████████████████████████▍      | 122kB 6.7MB/s eta 0:00:01\r\u001b[K     |███████████████████████████▌    | 133kB 6.7MB/s eta 0:00:01\r\u001b[K     |█████████████████████████████▋  | 143kB 6.7MB/s eta 0:00:01\r\u001b[K     |███████████████████████████████▊| 153kB 6.7MB/s eta 0:00:01\r\u001b[K     |████████████████████████████████| 163kB 6.7MB/s \n",
            "\u001b[?25h  Building wheel for leven (setup.py) ... \u001b[?25l\u001b[?25hdone\n",
            "\u001b[K     |████████████████████████████████| 1.2MB 5.3MB/s \n",
            "\u001b[?25h"
          ],
          "name": "stdout"
        }
      ]
    },
    {
      "cell_type": "markdown",
      "metadata": {
        "id": "rUS3jc1o1Nq8"
      },
      "source": [
        "## Model parameters\n",
        "\n",
        "The 'ModelParameters' class manages global hyperparamaters for portability between Colab and Kaggle notebook environments. Once set, all other cells will run on either platform.\n",
        "\n",
        "On Colab, connection to my personal Google Drive is required, as ModelParameters will extract the dataset from a zip file to the hosted environment. This process may take several minutes. (It would not be difficult for the reader to update the code to point to their own drive and download the zip dataset using the Kaggle API code below.)"
      ]
    },
    {
      "cell_type": "code",
      "metadata": {
        "id": "q6FUA_lvrd4Y",
        "colab": {
          "base_uri": "https://localhost:8080/",
          "height": 69
        },
        "outputId": "793c0749-72b2-4203-f9b2-a40af467d2c0"
      },
      "source": [
        "\"\"\" Kaggle api for download the compressed dataset from Kaggle's servers.\n",
        "\n",
        "# imports\n",
        "!pip uninstall -y kaggle\n",
        "!pip install --upgrade pip\n",
        "!pip install kaggle==1.5.6\n",
        "\n",
        "# if needed, download data using '!kaggle competitions download -c bms-molecular-translation'\n",
        "# then unzip with '! unzip bms-molecular-translation.zip -d datasets'\n",
        "os.environ['KAGGLE_CONFIG_DIR'] = '/content/gdrive/MyDrive/Kaggle'  # api token location\n",
        "\"\"\""
      ],
      "execution_count": 2,
      "outputs": [
        {
          "output_type": "execute_result",
          "data": {
            "application/vnd.google.colaboratory.intrinsic+json": {
              "type": "string"
            },
            "text/plain": [
              "\" Kaggle api for download the compressed dataset from Kaggle's servers.\\n\\n# imports\\n!pip uninstall -y kaggle\\n!pip install --upgrade pip\\n!pip install kaggle==1.5.6\\n\\n# if needed, download data using '!kaggle competitions download -c bms-molecular-translation'\\n# then unzip with '! unzip bms-molecular-translation.zip -d datasets'\\nos.environ['KAGGLE_CONFIG_DIR'] = '/content/gdrive/MyDrive/Kaggle'  # api token location\\n\""
            ]
          },
          "metadata": {
            "tags": []
          },
          "execution_count": 2
        }
      ]
    },
    {
      "cell_type": "code",
      "metadata": {
        "id": "7okJ4Do3bIZQ",
        "colab": {
          "base_uri": "https://localhost:8080/"
        },
        "outputId": "c0af40bd-c34f-4a74-9b74-e16e88acb291"
      },
      "source": [
        "# check for TPU & initialize\n",
        "try:\n",
        "    resolver = tf.distribute.cluster_resolver.TPUClusterResolver(tpu='')\n",
        "    tf.config.experimental_connect_to_cluster(resolver)\n",
        "\n",
        "    tf.tpu.experimental.initialize_tpu_system(resolver)\n",
        "    print(\"All devices: \", tf.config.list_logical_devices('TPU'))\n",
        "\n",
        "    STRATEGY = tf.distribute.TPUStrategy(resolver)\n",
        "    TPU = True\n",
        "    os.environ[\"TFHUB_MODEL_LOAD_FORMAT\"] = \"UNCOMPRESSED\"  # for TF Hub models on TPU\n",
        "    PRECISION_TYPE = 'mixed_bfloat16' \n",
        "    #PRECISION_TYPE = 'float32' \n",
        "\n",
        "    # extra imports for GCS\n",
        "    !pip install -q fsspec\n",
        "    !pip install -q gcsfs\n",
        "    import fsspec, gcsfs \n",
        "\n",
        "except:\n",
        "    TPU = False\n",
        "    STRATEGY = tf.distribute.get_strategy()\n",
        "    PRECISION_TYPE = 'mixed_float16'\n",
        "\n",
        "# enable mixed precision\n",
        "tf.keras.mixed_precision.set_global_policy(PRECISION_TYPE)"
      ],
      "execution_count": 3,
      "outputs": [
        {
          "output_type": "stream",
          "text": [
            "INFO:tensorflow:Initializing the TPU system: grpc://10.93.81.34:8470\n"
          ],
          "name": "stdout"
        },
        {
          "output_type": "stream",
          "text": [
            "INFO:tensorflow:Initializing the TPU system: grpc://10.93.81.34:8470\n"
          ],
          "name": "stderr"
        },
        {
          "output_type": "stream",
          "text": [
            "INFO:tensorflow:Clearing out eager caches\n"
          ],
          "name": "stdout"
        },
        {
          "output_type": "stream",
          "text": [
            "INFO:tensorflow:Clearing out eager caches\n"
          ],
          "name": "stderr"
        },
        {
          "output_type": "stream",
          "text": [
            "INFO:tensorflow:Finished initializing TPU system.\n"
          ],
          "name": "stdout"
        },
        {
          "output_type": "stream",
          "text": [
            "INFO:tensorflow:Finished initializing TPU system.\n"
          ],
          "name": "stderr"
        },
        {
          "output_type": "stream",
          "text": [
            "All devices:  [LogicalDevice(name='/job:worker/replica:0/task:0/device:TPU:7', device_type='TPU'), LogicalDevice(name='/job:worker/replica:0/task:0/device:TPU:6', device_type='TPU'), LogicalDevice(name='/job:worker/replica:0/task:0/device:TPU:5', device_type='TPU'), LogicalDevice(name='/job:worker/replica:0/task:0/device:TPU:4', device_type='TPU'), LogicalDevice(name='/job:worker/replica:0/task:0/device:TPU:3', device_type='TPU'), LogicalDevice(name='/job:worker/replica:0/task:0/device:TPU:0', device_type='TPU'), LogicalDevice(name='/job:worker/replica:0/task:0/device:TPU:1', device_type='TPU'), LogicalDevice(name='/job:worker/replica:0/task:0/device:TPU:2', device_type='TPU')]\n",
            "INFO:tensorflow:Found TPU system:\n"
          ],
          "name": "stdout"
        },
        {
          "output_type": "stream",
          "text": [
            "INFO:tensorflow:Found TPU system:\n"
          ],
          "name": "stderr"
        },
        {
          "output_type": "stream",
          "text": [
            "INFO:tensorflow:*** Num TPU Cores: 8\n"
          ],
          "name": "stdout"
        },
        {
          "output_type": "stream",
          "text": [
            "INFO:tensorflow:*** Num TPU Cores: 8\n"
          ],
          "name": "stderr"
        },
        {
          "output_type": "stream",
          "text": [
            "INFO:tensorflow:*** Num TPU Workers: 1\n"
          ],
          "name": "stdout"
        },
        {
          "output_type": "stream",
          "text": [
            "INFO:tensorflow:*** Num TPU Workers: 1\n"
          ],
          "name": "stderr"
        },
        {
          "output_type": "stream",
          "text": [
            "INFO:tensorflow:*** Num TPU Cores Per Worker: 8\n"
          ],
          "name": "stdout"
        },
        {
          "output_type": "stream",
          "text": [
            "INFO:tensorflow:*** Num TPU Cores Per Worker: 8\n"
          ],
          "name": "stderr"
        },
        {
          "output_type": "stream",
          "text": [
            "INFO:tensorflow:*** Available Device: _DeviceAttributes(/job:localhost/replica:0/task:0/device:CPU:0, CPU, 0, 0)\n"
          ],
          "name": "stdout"
        },
        {
          "output_type": "stream",
          "text": [
            "INFO:tensorflow:*** Available Device: _DeviceAttributes(/job:localhost/replica:0/task:0/device:CPU:0, CPU, 0, 0)\n"
          ],
          "name": "stderr"
        },
        {
          "output_type": "stream",
          "text": [
            "INFO:tensorflow:*** Available Device: _DeviceAttributes(/job:worker/replica:0/task:0/device:CPU:0, CPU, 0, 0)\n"
          ],
          "name": "stdout"
        },
        {
          "output_type": "stream",
          "text": [
            "INFO:tensorflow:*** Available Device: _DeviceAttributes(/job:worker/replica:0/task:0/device:CPU:0, CPU, 0, 0)\n"
          ],
          "name": "stderr"
        },
        {
          "output_type": "stream",
          "text": [
            "INFO:tensorflow:*** Available Device: _DeviceAttributes(/job:worker/replica:0/task:0/device:TPU:0, TPU, 0, 0)\n"
          ],
          "name": "stdout"
        },
        {
          "output_type": "stream",
          "text": [
            "INFO:tensorflow:*** Available Device: _DeviceAttributes(/job:worker/replica:0/task:0/device:TPU:0, TPU, 0, 0)\n"
          ],
          "name": "stderr"
        },
        {
          "output_type": "stream",
          "text": [
            "INFO:tensorflow:*** Available Device: _DeviceAttributes(/job:worker/replica:0/task:0/device:TPU:1, TPU, 0, 0)\n"
          ],
          "name": "stdout"
        },
        {
          "output_type": "stream",
          "text": [
            "INFO:tensorflow:*** Available Device: _DeviceAttributes(/job:worker/replica:0/task:0/device:TPU:1, TPU, 0, 0)\n"
          ],
          "name": "stderr"
        },
        {
          "output_type": "stream",
          "text": [
            "INFO:tensorflow:*** Available Device: _DeviceAttributes(/job:worker/replica:0/task:0/device:TPU:2, TPU, 0, 0)\n"
          ],
          "name": "stdout"
        },
        {
          "output_type": "stream",
          "text": [
            "INFO:tensorflow:*** Available Device: _DeviceAttributes(/job:worker/replica:0/task:0/device:TPU:2, TPU, 0, 0)\n"
          ],
          "name": "stderr"
        },
        {
          "output_type": "stream",
          "text": [
            "INFO:tensorflow:*** Available Device: _DeviceAttributes(/job:worker/replica:0/task:0/device:TPU:3, TPU, 0, 0)\n"
          ],
          "name": "stdout"
        },
        {
          "output_type": "stream",
          "text": [
            "INFO:tensorflow:*** Available Device: _DeviceAttributes(/job:worker/replica:0/task:0/device:TPU:3, TPU, 0, 0)\n"
          ],
          "name": "stderr"
        },
        {
          "output_type": "stream",
          "text": [
            "INFO:tensorflow:*** Available Device: _DeviceAttributes(/job:worker/replica:0/task:0/device:TPU:4, TPU, 0, 0)\n"
          ],
          "name": "stdout"
        },
        {
          "output_type": "stream",
          "text": [
            "INFO:tensorflow:*** Available Device: _DeviceAttributes(/job:worker/replica:0/task:0/device:TPU:4, TPU, 0, 0)\n"
          ],
          "name": "stderr"
        },
        {
          "output_type": "stream",
          "text": [
            "INFO:tensorflow:*** Available Device: _DeviceAttributes(/job:worker/replica:0/task:0/device:TPU:5, TPU, 0, 0)\n"
          ],
          "name": "stdout"
        },
        {
          "output_type": "stream",
          "text": [
            "INFO:tensorflow:*** Available Device: _DeviceAttributes(/job:worker/replica:0/task:0/device:TPU:5, TPU, 0, 0)\n"
          ],
          "name": "stderr"
        },
        {
          "output_type": "stream",
          "text": [
            "INFO:tensorflow:*** Available Device: _DeviceAttributes(/job:worker/replica:0/task:0/device:TPU:6, TPU, 0, 0)\n"
          ],
          "name": "stdout"
        },
        {
          "output_type": "stream",
          "text": [
            "INFO:tensorflow:*** Available Device: _DeviceAttributes(/job:worker/replica:0/task:0/device:TPU:6, TPU, 0, 0)\n"
          ],
          "name": "stderr"
        },
        {
          "output_type": "stream",
          "text": [
            "INFO:tensorflow:*** Available Device: _DeviceAttributes(/job:worker/replica:0/task:0/device:TPU:7, TPU, 0, 0)\n"
          ],
          "name": "stdout"
        },
        {
          "output_type": "stream",
          "text": [
            "INFO:tensorflow:*** Available Device: _DeviceAttributes(/job:worker/replica:0/task:0/device:TPU:7, TPU, 0, 0)\n"
          ],
          "name": "stderr"
        },
        {
          "output_type": "stream",
          "text": [
            "INFO:tensorflow:*** Available Device: _DeviceAttributes(/job:worker/replica:0/task:0/device:TPU_SYSTEM:0, TPU_SYSTEM, 0, 0)\n"
          ],
          "name": "stdout"
        },
        {
          "output_type": "stream",
          "text": [
            "INFO:tensorflow:*** Available Device: _DeviceAttributes(/job:worker/replica:0/task:0/device:TPU_SYSTEM:0, TPU_SYSTEM, 0, 0)\n"
          ],
          "name": "stderr"
        },
        {
          "output_type": "stream",
          "text": [
            "INFO:tensorflow:*** Available Device: _DeviceAttributes(/job:worker/replica:0/task:0/device:XLA_CPU:0, XLA_CPU, 0, 0)\n"
          ],
          "name": "stdout"
        },
        {
          "output_type": "stream",
          "text": [
            "INFO:tensorflow:*** Available Device: _DeviceAttributes(/job:worker/replica:0/task:0/device:XLA_CPU:0, XLA_CPU, 0, 0)\n"
          ],
          "name": "stderr"
        },
        {
          "output_type": "stream",
          "text": [
            "\u001b[K     |████████████████████████████████| 122kB 6.7MB/s \n",
            "\u001b[K     |████████████████████████████████| 1.3MB 8.1MB/s \n",
            "\u001b[K     |████████████████████████████████| 143kB 36.5MB/s \n",
            "\u001b[K     |████████████████████████████████| 296kB 36.5MB/s \n",
            "\u001b[?25h"
          ],
          "name": "stdout"
        }
      ]
    },
    {
      "cell_type": "code",
      "metadata": {
        "id": "WTkL38FRtUfQ"
      },
      "source": [
        "class ModelParameters:\n",
        "    def __init__(self, cloud_server='kaggle'):\n",
        "               \n",
        "        # universal parameters\n",
        "        self._batch_size = 16  # used on GPU. TPU batch size increased below\n",
        "        self._padded_length = 200\n",
        "        self._image_size = (224, 224)  # shape to process images in data pipeline. Size is restricted by memory constraints.\n",
        "        self.SOS_string = 'InChI=1S/'  # start of sentence value\n",
        "        self.EOS_string = '<EOS>'  # end of sentence value\n",
        "        self._strategy = STRATEGY\n",
        "        self._precision_type = PRECISION_TYPE\n",
        "        self._tpu = TPU\n",
        "        \n",
        "        # TPU batch size\n",
        "        if self._tpu:\n",
        "            # note: utilize steps_per_execution compile parameter to increase TPU throughput\n",
        "            self._batch_size = 128 * self._strategy.num_replicas_in_sync  \n",
        "\n",
        "        # File Paths       \n",
        "        if cloud_server == 'colab':  # Google Colab\n",
        "            \n",
        "            # load drive for saving checkpoints\n",
        "            try:\n",
        "                from google.colab import drive\n",
        "                drive.mount('/content/gdrive/') \n",
        "            except:\n",
        "                pass  # drive already mounted\n",
        "            \n",
        "            # check for TPU \n",
        "            if self._tpu: \n",
        "\n",
        "                # TPU file structure (via Kaggle GCS folder)\n",
        "                self._dataset_dir = 'gs://kds-df3031ee4e277d641d1044cc3e9386a923ca98833b0d51a2575d2932' # from Kaggle. Get updated directory on Kaggle via KaggleDatasets().get_gcs_path('bms-molecular-translation')\n",
        "                self._prepared_files_dir = 'gs://kds-96b617b700ddb4d07bc42a47c0a7abfe3a68d4510c459b7cd7b216e6'  # from Kaggle. Get updated directory on Kaggle via KaggleDatasets().get_gcs_path('periodic-table')\n",
        "                self._tfrec_dir = 'gs://kds-cf4c41e9d27a61775a28e7b7420f2258a75bd762c3ffcd88c9e83dc2'  # from Kaggle. Get updated directory on Kaggle via KaggleDatasets().get_gcs_path('bmsshards')\n",
        "                self._checkpoint_dir = '/content/gdrive/MyDrive/Colab_Notebooks/models/MolecularTranslation/checkpoints/'  # gdrive\n",
        "                self._load_checkpoint_dir = self._checkpoint_dir\n",
        "                self._csv_save_dir = './'\n",
        "\n",
        "            else:\n",
        "                # unzip data\n",
        "                if not os.path.isdir('/content/bms-molecular-translation'):\n",
        "                    !unzip -q /content/gdrive/MyDrive/Colab_Notebooks/models/MolecularTranslation/bms-molecular-translation.zip -d '/content/bms-molecular-translation'\n",
        "                \n",
        "                # file paths\n",
        "                self._dataset_dir = 'bms-molecular-translation/'\n",
        "                self._prepared_files_dir = '/content/gdrive/MyDrive/Colab_Notebooks/models/MolecularTranslation/'\n",
        "                self._checkpoint_dir = '/content/gdrive/MyDrive/Colab_Notebooks/models/MolecularTranslation/checkpoints/'\n",
        "                self._load_checkpoint_dir = self._checkpoint_dir\n",
        "                self._csv_save_dir = self._prepared_files_dir \n",
        "                self._tfrec_dir = None\n",
        "                \n",
        "        elif cloud_server == 'kaggle': # Kaggle cloud notebook (CPU / GPU)\n",
        "            from kaggle_datasets import KaggleDatasets\n",
        "            \n",
        "            # check for TPU \n",
        "            if self._tpu: \n",
        "                \n",
        "                # file paths\n",
        "                self._dataset_dir = '' #KaggleDatasets().get_gcs_path('bms-molecular-translation')\n",
        "                self._prepared_files_dir = KaggleDatasets().get_gcs_path('periodic-table')\n",
        "                self._tfrec_dir = KaggleDatasets().get_gcs_path('bmsshards')\n",
        "                self._checkpoint_dir = './'\n",
        "                self._load_checkpoint_dir = './'\n",
        "                self._csv_save_dir = './'\n",
        "\n",
        "            # set GPU instance info\n",
        "            else:  \n",
        "                # file paths\n",
        "                self._dataset_dir = '../input/bms-molecular-translation/'\n",
        "                self._prepared_files_dir = '../input/periodic-table/'\n",
        "                self._tfrec_dir = '../input/bmsshards/'\n",
        "                self._checkpoint_dir = './'\n",
        "                self._load_checkpoint_dir = '../input/k/mvenou/bms-molecular-translation/checkpoints/'\n",
        "                self._csv_save_dir = './'\n",
        "                self._tfrec_dir = None\n",
        "\n",
        "        # common file paths\n",
        "        self._periodic_table_csv = os.path.join(self._prepared_files_dir, 'periodic_table_elements.csv')\n",
        "        self._vocab_csv = os.path.join(self._prepared_files_dir, 'vocab.csv')        \n",
        "        self._test_images_dir = os.path.join(self._dataset_dir, 'test/')\n",
        "        self._train_images_dir = os.path.join(self._dataset_dir, 'train/')\n",
        "        self._extra_labels_csv = os.path.join(self._dataset_dir, 'extra_approved_InChIs.csv')\n",
        "        self._train_labels_csv = os.path.join(self._dataset_dir, 'train_labels.csv')\n",
        "        self._sample_submission_csv = os.path.join(self._dataset_dir, 'sample_submission.csv')\n",
        "        \n",
        "    # functions to access params\n",
        "    def padded_length(self):\n",
        "        return self._padded_length\n",
        "    def mixed_precision(self):\n",
        "        return self._precision_type\n",
        "    def tpu(self):\n",
        "        return self._tpu\n",
        "    def tfrec_dir(self):\n",
        "        return self._tfrec_dir\n",
        "    def cloud_server(self):\n",
        "        return self._cloud_server\n",
        "    def strategy(self):\n",
        "        return self._strategy\n",
        "    def csv_save_dir(self):\n",
        "        return self._csv_save_dir\n",
        "    def train_labels_csv(self):\n",
        "        return self._train_labels_csv\n",
        "    def vocab_csv(self):\n",
        "        return self._vocab_csv\n",
        "    def periodic_table_csv(self):\n",
        "        return self._periodic_table_csv\n",
        "    def batch_size(self):\n",
        "        return self._batch_size  \n",
        "    def image_size(self):\n",
        "        return self._image_size    \n",
        "    def SOS(self):\n",
        "        return self.SOS_string\n",
        "    def EOS(self):\n",
        "        return self.EOS_string\n",
        "    def train_images_dir(self):\n",
        "        return self._train_images_dir\n",
        "    def test_images_dir(self):\n",
        "        return self._test_images_dir   \n",
        "    def checkpoint_dir(self):\n",
        "        return self._checkpoint_dir\n",
        "    def load_checkpoint_dir(self):\n",
        "        return self._load_checkpoint_dir\n"
      ],
      "execution_count": 4,
      "outputs": []
    },
    {
      "cell_type": "markdown",
      "metadata": {
        "id": "8sFuCtyTUQwh"
      },
      "source": [
        "Initialize Parameter Options"
      ]
    },
    {
      "cell_type": "code",
      "metadata": {
        "id": "_a301N_Gf1hl",
        "colab": {
          "base_uri": "https://localhost:8080/"
        },
        "outputId": "bf370328-e700-4476-b0ca-205e3913a7f8"
      },
      "source": [
        "PARAMETERS = ModelParameters(cloud_server='colab')"
      ],
      "execution_count": 5,
      "outputs": [
        {
          "output_type": "stream",
          "text": [
            "Mounted at /content/gdrive/\n"
          ],
          "name": "stdout"
        }
      ]
    },
    {
      "cell_type": "markdown",
      "metadata": {
        "id": "lrLHKs5Ni7Sz"
      },
      "source": [
        "# **Input Pipeline**"
      ]
    },
    {
      "cell_type": "markdown",
      "metadata": {
        "id": "kgq0W_hZUX-r"
      },
      "source": [
        "Load train labels as DataFrame"
      ]
    },
    {
      "cell_type": "code",
      "metadata": {
        "id": "21sUOSyff1hm"
      },
      "source": [
        "if not PARAMETERS.tpu():\n",
        "    # Load CSV as dataframe\n",
        "    train_labels_df = pd.read_csv(PARAMETERS.train_labels_csv())\n",
        "    train_labels_df.head()"
      ],
      "execution_count": 6,
      "outputs": []
    },
    {
      "cell_type": "markdown",
      "metadata": {
        "id": "Ly1PolKXhNOy"
      },
      "source": [
        "### InChI Text Parsing\n",
        "\n",
        "We split each InChI label into its \"vocabulary\" of logical subunits, consisting of element abbreviations numbers, common symbols and the required string 'InChI=1S/', which is at the start of every InChI label. We want to narrow down this vocabulary to the smallest set represented in our training data. The functions below provide a system for finding this minimal set, as well as preparing a new CSV file with parsed labels ready to be fed into a tokenizer layer.\n",
        "\n",
        "(For clarity and to reduce reliance on loading external files, the true code has been commented out and replaced with corresponding hard-coded values.)"
      ]
    },
    {
      "cell_type": "code",
      "metadata": {
        "id": "QQiYkMHIrXmo"
      },
      "source": [
        "def inchi_parsing_regex(parameters=PARAMETERS):\n",
        "    # regex for spliting on InChi, but preserving chemical element abbreviations and three-digit numbers\n",
        "    \n",
        "    # shortcut: hard coded values\n",
        "    vocab = [parameters.EOS(), parameters.SOS(), '(',\n",
        "            ')', '+', ',', '-', '/', 'Br', 'B', 'Cl', 'C', 'D', 'F',\n",
        "            'H', 'I', 'N', 'O', 'P', 'Si', 'S', 'T', 'b', 'c', 'h', 'i',\n",
        "            'm', 's', 't']\n",
        "        \n",
        "    vocab += [str(num) for num in reversed(range(168))]\n",
        "    vocab = [re.escape(val) for val in vocab]\n",
        "       \n",
        "    \"\"\" # to create vocab from scratch, use:\n",
        "    SOS = parameters.SOS()\n",
        "    EOS = parameters.EOS()\n",
        "    \n",
        "    # load list of elements we should search for within InChI strings: \n",
        "    periodic_elements = pd.read_csv(PARAMETERS.periodic_table_csv(), header=None)[1].to_list()\n",
        "    periodic_elements = periodic_elements + [val.lower() for val in periodic_elements] + [val.upper() for val in periodic_elements]\n",
        "    \n",
        "    punctuation = list(string.punctuation)\n",
        "    punctuation = [re.escape(val) for val in punctuation]   # update values with regex escape chars added as needed\n",
        "\n",
        "    three_dig_nums_list = [str(i) for i in range(1000, -1, -1)]\n",
        "\n",
        "    vocab = [SOS, EOS] + periodic_elements + three_dig_nums_list + punctuation\n",
        "    \"\"\"\n",
        "\n",
        "    split_elements_regex = rf\"({'|'.join(vocab)})\"\n",
        "    \n",
        "    return split_elements_regex"
      ],
      "execution_count": 7,
      "outputs": []
    },
    {
      "cell_type": "code",
      "metadata": {
        "id": "j_57mCRgimRj"
      },
      "source": [
        "INCHI_PARSING_REGEX = inchi_parsing_regex()\n",
        "\n",
        "def parse_InChI(texts, parsing_regex=INCHI_PARSING_REGEX):  \n",
        "    return ' '.join(re.findall(parsing_regex, texts))\n",
        "\n",
        "\n",
        "# TF dataset map-compatible version\n",
        "def parse_InChI_py_fn(texts, parsing_regex=INCHI_PARSING_REGEX):\n",
        "    def tf_parse_InChI(texts):  \n",
        "        texts = np.char.array(texts.numpy())\n",
        "        texts = np.char.decode(texts).tolist()\n",
        "        texts = tf.constant([parse_InChI(val) for val in texts])\n",
        "        return tf.squeeze(texts)\n",
        "    return tf.py_function(func=tf_parse_InChI, inp=[texts], Tout=tf.string)\n",
        "\n",
        "\n",
        "# extracts filepath from image name\n",
        "def path_from_image_id(x, root_folder):\n",
        "    folder_a = tf.strings.substr(x, pos=0, len=1)\n",
        "    folder_b = tf.strings.substr(x, pos=1, len=1)\n",
        "    folder_c = tf.strings.substr(x, pos=2, len=1)\n",
        "    filename =  tf.strings.join([x, '.png'])\n",
        "    return tf.strings.join([root_folder, folder_a, folder_b, folder_c, filename], separator='/')"
      ],
      "execution_count": 8,
      "outputs": []
    },
    {
      "cell_type": "markdown",
      "metadata": {
        "id": "QmcP1tFRrvyR"
      },
      "source": [
        "Tokenizer\n",
        "\n",
        "Note: This must be kept outside the model (and used in dataset prep) for TPU compatability"
      ]
    },
    {
      "cell_type": "code",
      "metadata": {
        "id": "WDY6kY8Mf1hq"
      },
      "source": [
        "def Tokenizer(parameters):\n",
        "    \"\"\" tokenizes, crops & pads to parameters.padded_length() \"\"\"\n",
        "\n",
        "    SOS = parameters.SOS()\n",
        "    EOS = parameters.EOS()\n",
        "    padded_length = PARAMETERS.padded_length()\n",
        "    \n",
        "    # Create vocabulary for tokenizer\n",
        "    def create_vocab():       \n",
        "        hard_coded_vocab = [PARAMETERS.EOS(), PARAMETERS.SOS(), '(',\n",
        "            ')', '+', ',', '-', '/', 'B', 'Br',  'C', 'Cl', 'D', 'F',\n",
        "            'H', 'I', 'N', 'O', 'P', 'S', 'Si', 'T', 'b', 'c', 'h', 'i',\n",
        "            'm', 's', 't']\n",
        "        \n",
        "        numbers = [str(num) for num in range(168)]\n",
        "        \n",
        "        vocab = hard_coded_vocab + numbers\n",
        "        \n",
        "        \"\"\"\n",
        "        # get from saved file\n",
        "        vocab = pd.read_csv(PARAMETERS.vocab_csv())['vocab_value'].to_list()   \n",
        "        vocab = list(vocab)\n",
        "        \"\"\"\n",
        "\n",
        "        \"\"\" \n",
        "        # To create from scratch, extract all vocab elements appearing in train set:\n",
        "        df = pd.read_csv(PARAMETERS.train_labels_csv())  \n",
        "        seg_len = 250000\n",
        "        num_breaks = len(df) // seg_len\n",
        "\n",
        "        vocab = set()\n",
        "        for i in range(num_breaks):\n",
        "\n",
        "            df_i =  df['InChI'].iloc[seg_len * i: seg_len * (i+1)]\n",
        "            texts =  df_i.apply(lambda x: set(parse_InChI(x).split()))\n",
        "            texts = texts.tolist()\n",
        "\n",
        "            vocab = vocab.union(*texts)\n",
        "\n",
        "            print(f'completed {i} / {num_breaks}')\n",
        "\n",
        "        vocab = list(vocab)\n",
        "        vocab_df = pd.DataFrame({'vocab_value': vocab})\n",
        "\n",
        "        # save results\n",
        "        filename = os.path.join(PARAMETERS.csv_save_dir(), 'vocab.csv')\n",
        "        vocab_df.to_csv(filename, index=False)\n",
        "        \"\"\"\n",
        "               \n",
        "        return vocab\n",
        "\n",
        "    vocab = create_vocab()\n",
        "    \n",
        "    # create tokenizer\n",
        "    tokenizer_layer = tf.keras.layers.experimental.preprocessing.TextVectorization(\n",
        "        standardize=None, split=lambda x: tf.strings.split(x, sep=' ', maxsplit=-1), \n",
        "        output_mode='int', output_sequence_length=padded_length, vocabulary=vocab)\n",
        "\n",
        "    # record EOS token\n",
        "    tokenized_EOS = tokenizer_layer(tf.constant([EOS]))\n",
        "    \n",
        "    # create inverse (de-tokenizer)\n",
        "    inverse_tokenizer = tf.keras.layers.experimental.preprocessing.StringLookup(\n",
        "        vocabulary=vocab, invert=True)\n",
        "\n",
        "    return tokenizer_layer, inverse_tokenizer, tokenized_EOS"
      ],
      "execution_count": 9,
      "outputs": []
    },
    {
      "cell_type": "code",
      "metadata": {
        "id": "zw6ghpYe6l7W"
      },
      "source": [
        "TOKENIZER_LAYER, INVERSE_TOKENIZER, TOKENIZED_EOS = \\\n",
        "    Tokenizer(parameters=PARAMETERS)\n",
        "\n",
        "def tokenize_text(w, x, y, z):\n",
        "    # note: requires batch dim\n",
        "    y = TOKENIZER_LAYER(y)\n",
        "    return w, x, y, z"
      ],
      "execution_count": 10,
      "outputs": []
    },
    {
      "cell_type": "markdown",
      "metadata": {
        "id": "_rk6HKexVmY-"
      },
      "source": [
        "Image Loader"
      ]
    },
    {
      "cell_type": "code",
      "metadata": {
        "id": "h4VcUWGHVB7z"
      },
      "source": [
        "# Image loaders\n",
        "def load_image(image_path):\n",
        "    image_path = tf.squeeze(image_path)\n",
        "    image = keras.layers.Lambda(lambda x: tf.io.read_file(x))(image_path)\n",
        "    return image   \n",
        "\n",
        "def decode_image(image, target_size):\n",
        "    image = keras.layers.Lambda(lambda x: tf.io.decode_image(x, channels=3, expand_animations=False))(image)\n",
        "    image = keras.layers.experimental.preprocessing.Resizing(*target_size)(image)\n",
        "    return image    "
      ],
      "execution_count": 11,
      "outputs": []
    },
    {
      "cell_type": "markdown",
      "metadata": {
        "id": "No2ecfS_hR9k"
      },
      "source": [
        "## Datasets\n",
        "\n",
        "Here we create efficient tf.data.Dataset train / validation / test sets.\n",
        "\n",
        "Out data pipeline will read our prepared CSV of (image filename, parsed InChI and standard InChI) tuples. (If this file is not found, it will be created from scratch. This may take several minutes)  Iterating through the list, it will load batches of corresponding images and labels.\n",
        "\n",
        "Our datasets contain the following information, accessible by dict keys: images, image_id, InChI, parsed_InChI. (The test set uses InChI = parsed_InChI = 'InChI=1S/', the known required stating value for any InChI code.)"
      ]
    },
    {
      "cell_type": "code",
      "metadata": {
        "id": "wDRJElyOf1hn"
      },
      "source": [
        "def data_generator(image_set, parameters=PARAMETERS, labels_df=None, decode_images=True):\n",
        "       \n",
        "    # get global params\n",
        "    batch_size = parameters.batch_size()\n",
        "    target_size = parameters.image_size()\n",
        "    SOS = parameters.SOS()\n",
        "    EOS = parameters.EOS()\n",
        "    \n",
        "    # dataset options\n",
        "    options = tf.data.Options()\n",
        "    options.experimental_optimization.autotune_buffers = True\n",
        "    options.experimental_optimization.map_vectorization.enabled = True\n",
        "    options.experimental_optimization.apply_default_optimizations = True\n",
        "        \n",
        "    # Train & Validation Datasets\n",
        "    if image_set in ['train', 'valid']:\n",
        "        root_folder = parameters.train_images_dir()  # train / valid images\n",
        "        valid_split = 0.10\n",
        "        \n",
        "        # load labels into memory as dataframe\n",
        "        if labels_df is None:\n",
        "            labels_df = pd.read_csv(parameters.train_labels_csv())\n",
        "\n",
        "        # test / train split\n",
        "        num_valid_samples = int(valid_split * len(labels_df))\n",
        "        train_df = labels_df.iloc[num_valid_samples: ]  # get train split\n",
        "        valid_df = labels_df.iloc[: num_valid_samples]  # get validation split\n",
        "\n",
        "        # shuffle\n",
        "        train_df = train_df.sample(frac=1)\n",
        "        valid_df = valid_df.sample(frac=1)\n",
        "\n",
        "        # load into datasets  # (image_id, InChI)\n",
        "        train_ds = tf.data.Dataset.from_tensor_slices(train_df.values)\n",
        "        valid_ds = tf.data.Dataset.from_tensor_slices(valid_df.values)\n",
        "\n",
        "        train_ds = train_ds.with_options(options)\n",
        "        valid_ds = valid_ds.with_options(options)\n",
        "\n",
        "        # update image paths  \n",
        "        def map_path(x):  # (image_path, image_id, InChI)\n",
        "            image_id = x[0]\n",
        "            image_path = path_from_image_id(image_id, root_folder)\n",
        "            return image_path, x[0], x[1]\n",
        "\n",
        "        train_ds = train_ds.map(map_path, num_parallel_calls=tf.data.AUTOTUNE)\n",
        "        valid_ds = valid_ds.map(map_path, num_parallel_calls=tf.data.AUTOTUNE)\n",
        "\n",
        "        def map_parse(x, y, z):  # (image_path, image_id, InChI)\n",
        "            parsed_InChI = parse_InChI_py_fn(z)\n",
        "            return x, y, parsed_InChI, z\n",
        "   \n",
        "        train_ds = train_ds.map(map_parse, num_parallel_calls=tf.data.AUTOTUNE)\n",
        "        valid_ds = valid_ds.map(map_parse, num_parallel_calls=tf.data.AUTOTUNE)\n",
        "                \n",
        "        # load images into dataset       \n",
        "        def open_images(w, x, y, z):\n",
        "            w = load_image(w)\n",
        "            return w, x, y, z\n",
        "        \n",
        "        train_ds = train_ds.map(open_images, num_parallel_calls=tf.data.AUTOTUNE)\n",
        "        valid_ds = valid_ds.map(open_images, num_parallel_calls=tf.data.AUTOTUNE)    \n",
        "\n",
        "        # PREFETCH dataset BEFORE decoding images\n",
        "        train_ds = train_ds.prefetch(tf.data.AUTOTUNE)\n",
        "        valid_ds = valid_ds.prefetch(tf.data.AUTOTUNE)\n",
        "\n",
        "        def decode(w, x, y, z):\n",
        "            w = decode_image(w, target_size)\n",
        "            return w, x, y, z\n",
        "\n",
        "        if decode_images:\n",
        "            train_ds = train_ds.map(decode, num_parallel_calls=tf.data.AUTOTUNE)\n",
        "            valid_ds = valid_ds.map(decode, num_parallel_calls=tf.data.AUTOTUNE)    \n",
        "\n",
        "        # BATCH dataset AFTER decoding images (required by tf.io)\n",
        "        # should batch before other pure TF Lambda layer ops\n",
        "        train_ds = train_ds.batch(batch_size, drop_remainder=True)\n",
        "        valid_ds = valid_ds.batch(batch_size, drop_remainder=True)\n",
        "        \n",
        "        # add extra \"EOS\" values to end of parsed inchi\n",
        "        def extend_EOS(w, x, y, z):\n",
        "            y = tf.strings.join([y, EOS, EOS, EOS, EOS, EOS], separator=' ')\n",
        "            y = tf.reshape(y, [-1])\n",
        "            return w, x, y, z\n",
        "\n",
        "        train_ds = train_ds.map(extend_EOS, num_parallel_calls=tf.data.AUTOTUNE)\n",
        "        valid_ds = valid_ds.map(extend_EOS, num_parallel_calls=tf.data.AUTOTUNE)\n",
        "\n",
        "        # Tokenize parsed_inchi.  Note: ds must be batched before this step (size=1 is ok) \n",
        "        train_ds = train_ds.map(tokenize_text, num_parallel_calls=tf.data.AUTOTUNE)\n",
        "        valid_ds = valid_ds.map(tokenize_text, num_parallel_calls=tf.data.AUTOTUNE)\n",
        "\n",
        "        # name the elements\n",
        "        def map_names(w, x, y, z):\n",
        "            return  {'image': w, 'image_id': x, 'tokenized_InChI': y, 'InChI': z}\n",
        "        \n",
        "        train_ds = train_ds.map(map_names, num_parallel_calls=tf.data.AUTOTUNE)\n",
        "        valid_ds = valid_ds.map(map_names, num_parallel_calls=tf.data.AUTOTUNE)\n",
        "        \n",
        "        return train_ds, valid_ds\n",
        "    \n",
        "    # Test Dataset\n",
        "    elif image_set == 'test':\n",
        "\n",
        "        # note: image resizing and batching done during this loading step\n",
        "        # other elements must be batched before combining\n",
        "        image_ds = tf.keras.preprocessing.image_dataset_from_directory(\n",
        "            directory=parameters.test_images_dir(), labels='inferred', label_mode=None,\n",
        "            class_names=None, color_mode='grayscale', batch_size=1, \n",
        "            image_size=target_size, shuffle=False, seed=None, validation_split=None, \n",
        "            subset=None, follow_links=False)\n",
        "\n",
        "        # set filenames as label and batch\n",
        "        image_id_ds = tf.data.Dataset.from_tensor_slices(image_ds.file_paths)\n",
        "        image_id_ds = image_id_ds.map(lambda x: tf.strings.split(x, os.path.sep)[-1],\n",
        "                                      num_parallel_calls=tf.data.AUTOTUNE)\n",
        "        \n",
        "        # prepare images for TF Records creations. \n",
        "        # Note: do this step AFTER filenames step\n",
        "        if decode_images is False:  \n",
        "            # convert image to raw byte string. Note: cannot have batch dim for encoding\n",
        "            image_ds = image_ds.unbatch()\n",
        "            image_ds = image_ds.map(lambda x: tf.cast(x, dtype=tf.uint16))\n",
        "            image_ds = image_ds.map(lambda image: tf.io.encode_png(image))\n",
        "            image_ds = image_ds.map(lambda image: tf.io.serialize_tensor(image))\n",
        "            \n",
        "        # dataset consisting solely of InChI start 'InChI=1S/'\n",
        "        inchi_ds = image_id_ds.map(lambda x: tf.constant(SOS, dtype=tf.string),\n",
        "                                   num_parallel_calls=tf.data.AUTOTUNE)\n",
        "        \n",
        "        # merge datasets\n",
        "        test_ds = tf.data.Dataset.zip((image_ds, image_id_ds, inchi_ds, inchi_ds))\n",
        "        \n",
        "        # prefetch\n",
        "        test_ds = test_ds.prefetch(tf.data.AUTOTUNE)\n",
        "        test_ds = test_ds.batch(batch_size)\n",
        "\n",
        "        # Tokenize parsed_inchi.  Note: ds must be batched before this step (size=1 is ok) \n",
        "        test_ds = test_ds.map(tokenize_text, num_parallel_calls=tf.data.AUTOTUNE)\n",
        "\n",
        "        # set key names\n",
        "        def map_names(w, x, y, z):\n",
        "            return  {'image': w, 'image_id': x, 'tokenized_InChI': y, 'InChI': z}\n",
        "        \n",
        "        test_ds = test_ds.map(map_names, num_parallel_calls=tf.data.AUTOTUNE)\n",
        "        \n",
        "        return test_ds"
      ],
      "execution_count": 12,
      "outputs": []
    },
    {
      "cell_type": "markdown",
      "metadata": {
        "id": "KCaO3A_5f1ho"
      },
      "source": [
        "Create Test, Train and Validation Datasets"
      ]
    },
    {
      "cell_type": "code",
      "metadata": {
        "id": "YvHSKTapob8V"
      },
      "source": [
        "if not PARAMETERS.tpu():\n",
        "    train_ds, valid_ds = data_generator('train', parameters=PARAMETERS, labels_df=train_labels_df, decode_images=True)\n",
        "    #test_ds = data_generator('test', parameters=PARAMETERS, labels_df=None, decode_images=True)"
      ],
      "execution_count": 13,
      "outputs": []
    },
    {
      "cell_type": "markdown",
      "metadata": {
        "id": "juAkO-oQaUml"
      },
      "source": [
        "Examine data shapes"
      ]
    },
    {
      "cell_type": "code",
      "metadata": {
        "id": "dKbpsKKrf1hp"
      },
      "source": [
        "if not PARAMETERS.tpu():\n",
        "\n",
        "    print('Train DS')\n",
        "    for val in train_ds.take(1):    \n",
        "        print('image:', val['image'].shape, 'image_id:', val['image_id'].shape, \n",
        "              'InChI:', val['InChI'].shape, 'tokenized_InChI:', val['tokenized_InChI'].shape)\n",
        "\n",
        "    print('\\nValidation DS')\n",
        "    for val in valid_ds.take(1):\n",
        "        print('image:', val['image'].shape, 'image_id:', val['image_id'].shape, \n",
        "              'InChI:', val['InChI'].shape, 'tokenized_InChI:', val['tokenized_InChI'].shape)\n",
        "\n",
        "    try:\n",
        "        print('\\nTest DS')\n",
        "        for val in test_ds.take(1):\n",
        "            print('image:', val['image'].shape, 'image_id:', val['image_id'].shape, \n",
        "                'InChI:', val['InChI'].shape, 'tokenized_InChI:', val['tokenized_InChI'].shape)\n",
        "    except:\n",
        "        pass"
      ],
      "execution_count": 14,
      "outputs": []
    },
    {
      "cell_type": "markdown",
      "metadata": {
        "id": "CeCYSm7N74i7"
      },
      "source": [
        "### TF Records Implementation"
      ]
    },
    {
      "cell_type": "code",
      "metadata": {
        "id": "vQgYgaPoO4gp"
      },
      "source": [
        "# Create TF Examples\n",
        "def make_example(image, image_id, tokenized_InChI, InChI):\n",
        "    image_feature = tf.train.Feature(\n",
        "        bytes_list=tf.train.BytesList(value=[image.numpy()])  # image provided as raw bytestring\n",
        "    )\n",
        "    image_id_feature = tf.train.Feature(\n",
        "        bytes_list=tf.train.BytesList(value=[image_id.numpy()])\n",
        "    )\n",
        "    tokenized_InChI_feature = tf.train.Feature(\n",
        "        bytes_list=tf.train.BytesList(value=[tf.io.serialize_tensor(tokenized_InChI).numpy()])\n",
        "    )\n",
        "    InChI_feature = tf.train.Feature(\n",
        "        bytes_list=tf.train.BytesList(value=[InChI.numpy()])\n",
        "    )\n",
        "\n",
        "    features = tf.train.Features(feature={\n",
        "        'image': image_feature,\n",
        "        'image_id': image_id_feature,\n",
        "        'tokenized_InChI': tokenized_InChI_feature,\n",
        "        'InChI': InChI_feature\n",
        "    })\n",
        "    \n",
        "    example = tf.train.Example(features=features)\n",
        "\n",
        "    return example.SerializeToString()\n",
        "\n",
        "\n",
        "def make_example_py_fn(image, image_id, InChI, tokenized_InChI):\n",
        "    return tf.py_function(func=make_example, \n",
        "                   inp=[image, image_id, InChI, tokenized_InChI], \n",
        "                   Tout=tf.string)\n",
        "\n",
        "\n",
        "# Decode TF Examples\n",
        "def decode_example(example, parameters=PARAMETERS):        \n",
        "    feature_description = {'image': tf.io.FixedLenFeature([], tf.string),\n",
        "                           'image_id': tf.io.FixedLenFeature([], tf.string),\n",
        "                           'tokenized_InChI': tf.io.FixedLenFeature([], tf.string),\n",
        "                           'InChI': tf.io.FixedLenFeature([], tf.string)}\n",
        "    \n",
        "    values = tf.io.parse_single_example(example, feature_description)\n",
        "    \n",
        "    \n",
        "    values['image'] = decode_image(values['image'], parameters.image_size())\n",
        "    values['tokenized_InChI'] = tf.io.parse_tensor(values['tokenized_InChI'],\n",
        "                                                  out_type=tf.int64)\n",
        "    values['tokenized_InChI'] = tf.cast(values['tokenized_InChI'], tf.int32)\n",
        "    \n",
        "    return values"
      ],
      "execution_count": 15,
      "outputs": []
    },
    {
      "cell_type": "code",
      "metadata": {
        "id": "hURRE1cnGOTD"
      },
      "source": [
        "def serialized_dataset_gen(parameters=PARAMETERS, set_type='train', labels_df=None):\n",
        "    \n",
        "    if set_type == 'train':\n",
        "        train_ds, valid_ds = data_generator(image_set='train', \n",
        "                                            parameters=parameters, \n",
        "                                            labels_df=train_labels_df, \n",
        "                                            decode_images=False)  # output images as bytestrings\n",
        "\n",
        "        train_ds = train_ds.unbatch()\n",
        "        valid_ds = valid_ds.unbatch()\n",
        "\n",
        "        # Create TF Examples\n",
        "        train_ds = train_ds.map(lambda x: make_example_py_fn(x['image'], x['image_id'], x['tokenized_InChI'], x['InChI']), \n",
        "                                num_parallel_calls=tf.data.AUTOTUNE)\n",
        "        valid_ds = valid_ds.map(lambda x: make_example_py_fn(x['image'], x['image_id'], x['tokenized_InChI'], x['InChI']), \n",
        "                                num_parallel_calls=tf.data.AUTOTUNE)\n",
        "        \n",
        "        return train_ds, valid_ds\n",
        "    \n",
        "    else: #test_set:\n",
        "        test_ds = data_generator(image_set='test', \n",
        "                                 parameters=parameters, \n",
        "                                 labels_df=None, \n",
        "                                 decode_images=False)  # output images as bytestrings\n",
        "        \n",
        "        test_ds = test_ds.unbatch()\n",
        "            \n",
        "        # Create TF Examples\n",
        "        test_ds = test_ds.map(lambda x: make_example_py_fn(x['image'], x['image_id'], x['tokenized_InChI'], x['InChI']), \n",
        "                              num_parallel_calls=tf.data.AUTOTUNE)\n",
        "        \n",
        "        return test_ds"
      ],
      "execution_count": 16,
      "outputs": []
    },
    {
      "cell_type": "code",
      "metadata": {
        "id": "DPDDDbqDj6BV"
      },
      "source": [
        "# Create TF Record Shards\n",
        "\"\"\"\n",
        "NOTE: Changes have been made to the other dataset pipeline functions. \n",
        "Test / Revise this for compatability before running.\n",
        "\"\"\"\n",
        "def create_records(dataset, subset, num_shards):\n",
        "    \n",
        "    folder = subset + '_tfrec'\n",
        "    \n",
        "    if subset =='train':\n",
        "        num_samples = int(.9 * len(train_labels_df))    # test / valid split\n",
        "    elif subset == 'valid':\n",
        "        num_samples = int(.1 * len(train_labels_df))\n",
        "    else:\n",
        "        num_samples = 2000000\n",
        "\n",
        "    if not os.path.isdir(folder):\n",
        "        os.mkdir(folder)\n",
        "        \n",
        "    for shard_num in range(num_shards):\n",
        "        \n",
        "        filename = os.path.join(folder, f'{subset}_shard_{shard_num+1}')\n",
        "        try:\n",
        "            this_shard = dataset.skip(shard_num * num_samples//num_shards).take(num_samples//num_shards)\n",
        "        \n",
        "            print(f'Writing shard {shard_num+1}/{num_shards} to {filename}')\n",
        "            writer = tf.data.experimental.TFRecordWriter(filename)\n",
        "            writer.write(this_shard)\n",
        "        except:\n",
        "            break\n",
        "    return None \n",
        "    \n",
        "# Load dataset from saved TF Record Shards\n",
        "def dataset_from_records(subset, parameters=PARAMETERS):\n",
        "\n",
        "    # optimizations\n",
        "    options = tf.data.Options()\n",
        "    options.experimental_optimization.autotune_buffers = True\n",
        "    options.experimental_optimization.map_vectorization.enabled = True\n",
        "    options.experimental_optimization.apply_default_optimizations = True\n",
        "\n",
        "    filepath = os.path.join(parameters.tfrec_dir(), \n",
        "                            subset + '_tfrec/*')\n",
        "\n",
        "    dataset = tf.data.Dataset.list_files(filepath)  # put all tf rec filenames in a ds\n",
        "    dataset = dataset.shuffle(10**6)\n",
        " \n",
        "    # merge the files\n",
        "    num_readers = parameters.strategy().num_replicas_in_sync\n",
        "    dataset = dataset.interleave(tf.data.TFRecordDataset,  \n",
        "                                 cycle_length=num_readers, block_length=1,\n",
        "                                 deterministic=False, num_parallel_calls=tf.data.AUTOTUNE)\n",
        "    \n",
        "    dataset = dataset.shuffle(10**6)\n",
        "    \n",
        "    # decode examples\n",
        "    dataset = dataset.map(decode_example, num_parallel_calls=tf.data.AUTOTUNE)\n",
        "\n",
        "    # note: tokenized InChI element spec needs help determining shape\n",
        "    for val in dataset.take(1):\n",
        "        padded_length = val['tokenized_InChI'].shape[-1]\n",
        "\n",
        "    # coerce unknown shape\n",
        "    dataset = dataset.map(lambda x: {'image':x['image'],\n",
        "                                     'image_id': x['image_id'],\n",
        "                                     'tokenized_InChI': tf.reshape(x['tokenized_InChI'], [padded_length]),\n",
        "                                     'InChI': x['InChI']},\n",
        "                          num_parallel_calls=tf.data.AUTOTUNE)  \n",
        "\n",
        "    dataset = dataset.batch(parameters.batch_size(), drop_remainder=True)\n",
        "    dataset = dataset.prefetch(tf.data.AUTOTUNE)\n",
        "        \n",
        "    return dataset"
      ],
      "execution_count": 17,
      "outputs": []
    },
    {
      "cell_type": "code",
      "metadata": {
        "id": "VxuZInXxj8Fn",
        "colab": {
          "base_uri": "https://localhost:8080/",
          "height": 52
        },
        "outputId": "d14c7405-bd68-47ab-c3e2-5e8681d8c9d7"
      },
      "source": [
        "# To create TF_Records files\n",
        "# note: can take 8+ hours for train set alone!\n",
        "\"\"\"\n",
        "serial_train_ds, serial_valid_ds = serialized_dataset_gen(parameters=PARAMETERS, set_type='train', labels_df=train_labels_df)\n",
        "serial_test_ds = serialized_dataset_gen(parameters=PARAMETERS, set_type='test', labels_df=None)\n",
        "\"\"\""
      ],
      "execution_count": 18,
      "outputs": [
        {
          "output_type": "execute_result",
          "data": {
            "application/vnd.google.colaboratory.intrinsic+json": {
              "type": "string"
            },
            "text/plain": [
              "\"\\nserial_train_ds, serial_valid_ds = serialized_dataset_gen(parameters=PARAMETERS, set_type='train', labels_df=train_labels_df)\\nserial_test_ds = serialized_dataset_gen(parameters=PARAMETERS, set_type='test', labels_df=None)\\n\""
            ]
          },
          "metadata": {
            "tags": []
          },
          "execution_count": 18
        }
      ]
    },
    {
      "cell_type": "code",
      "metadata": {
        "id": "8SeQrwPyh1Ok",
        "colab": {
          "base_uri": "https://localhost:8080/"
        },
        "outputId": "33a456d7-84cc-461d-d306-1df47f5d04c9"
      },
      "source": [
        "# IF USING TF_RECORDS:\n",
        "#NOTE: If no dataset loads, check if Kaggle GCS directories have changed. (This happends periodically)\n",
        "if PARAMETERS.tpu():\n",
        "    with PARAMETERS.strategy().scope(): \n",
        "        train_ds = dataset_from_records('train', parameters=PARAMETERS)\n",
        "        valid_ds = dataset_from_records('valid', parameters=PARAMETERS)\n",
        "\n",
        "    print('Train DS')\n",
        "    for val in train_ds.take(1):    \n",
        "        print('image:', val['image'].shape, 'image_id:', val['image_id'].shape, \n",
        "              'InChI:', val['InChI'].shape, 'tokenized_InChI:', val['tokenized_InChI'].shape)\n",
        "\n",
        "    print('\\nValidation DS')\n",
        "    for val in valid_ds.take(1):\n",
        "        print('image:', val['image'].shape, 'image_id:', val['image_id'].shape, \n",
        "              'InChI:', val['InChI'].shape, 'tokenized_InChI:', val['tokenized_InChI'].shape)\n",
        "\n",
        "    try:\n",
        "        print('\\nTest DS')\n",
        "        for val in test_ds.take(1):\n",
        "            print('image:', val['image'].shape, 'image_id:', val['image_id'].shape, \n",
        "                'InChI:', val['InChI'].shape, 'tokenized_InChI:', val['tokenized_InChI'].shape)\n",
        "    except:\n",
        "        pass"
      ],
      "execution_count": 19,
      "outputs": [
        {
          "output_type": "stream",
          "text": [
            "Train DS\n",
            "image: (1024, 224, 224, 3) image_id: (1024,) InChI: (1024,) tokenized_InChI: (1024, 200)\n",
            "\n",
            "Validation DS\n",
            "image: (1024, 224, 224, 3) image_id: (1024,) InChI: (1024,) tokenized_InChI: (1024, 200)\n",
            "\n",
            "Test DS\n"
          ],
          "name": "stdout"
        }
      ]
    },
    {
      "cell_type": "markdown",
      "metadata": {
        "id": "W0T-u0vZamI8"
      },
      "source": [
        "# **Model Layers**"
      ]
    },
    {
      "cell_type": "markdown",
      "metadata": {
        "id": "DYApmA2lf1hp"
      },
      "source": [
        "## InChI Encoding\n",
        "\n",
        "Tokenizer and Embedding to convert parsed InChI strings to tensors of numbers. Includes (optional) masked convolutional layer as an extra preprocessing step"
      ]
    },
    {
      "cell_type": "markdown",
      "metadata": {
        "id": "TMv38YQzf1hq"
      },
      "source": [
        "InChI Input Prep Layer"
      ]
    },
    {
      "cell_type": "code",
      "metadata": {
        "id": "VwhCP06Wf1hq"
      },
      "source": [
        "def InChIEncoder(vocab_size, inchi_embedding_dim, num_chars, use_convolutions=False):\n",
        "\n",
        "    EmbeddingLayer = tf.keras.layers.Embedding(input_dim=vocab_size, \n",
        "        output_dim=inchi_embedding_dim, mask_zero=False, input_length=num_chars-1)\n",
        "    \n",
        "    inchi = keras.layers.Input([num_chars], name='tokenized_inchi')\n",
        "    start_var = keras.layers.Input([1, inchi_embedding_dim], name='start_var')\n",
        "    pos_encoding = keras.layers.Input([num_chars, inchi_embedding_dim], name='positional_encoding')\n",
        "\n",
        "    inputs = [inchi, start_var, pos_encoding]\n",
        "\n",
        "    # embedding\n",
        "    inchi = inchi[:, :-1]  # drop last val\n",
        "    inchi = EmbeddingLayer(inchi)\n",
        "    \n",
        "    # (Optional: masked convolution)\n",
        "    if use_convolutions:\n",
        "        \n",
        "        # extend to (batch, len, len, dim) and mask for parallelized convolutions\n",
        "        ones = tf.ones((num_chars-1, num_chars-1))\n",
        "        mask = tf.linalg.band_part(ones, -1, 0)\n",
        "        mask = tf.reshape(mask, [1, num_chars-1, 1, num_chars-1])\n",
        "\n",
        "        inchi = tf.tile(tf.expand_dims(inchi, -1), [1, 1, 1, num_chars-1])\n",
        "        inchi *= mask\n",
        "\n",
        "        # apply parallel convolutions (maintains independence to mask future steps)\n",
        "        inchi = keras.layers.DepthwiseConv2D(kernel_size=3, \n",
        "                    strides=1, padding='same', data_format='channels_first',\n",
        "                    activation='relu')(inchi)\n",
        "\n",
        "        # squeeze out last dim\n",
        "        inchi = keras.layers.Dense(1, activation='relu')(inchi)\n",
        "        inchi = tf.squeeze(inchi, axis=-1)\n",
        "\n",
        "    # append start token\n",
        "    inchi = keras.layers.Concatenate(axis=1)(\n",
        "        [tf.cast(start_var, dtype=inchi.dtype), inchi])  \n",
        "    \n",
        "    # add positional encoding\n",
        "    inchi = keras.layers.Add()(\n",
        "        [tf.cast(pos_encoding, dtype=inchi.dtype), inchi])\n",
        "    \n",
        "    outputs = [inchi]\n",
        "\n",
        "    return keras.Model(inputs, outputs, name='InChIEncoder')"
      ],
      "execution_count": 20,
      "outputs": []
    },
    {
      "cell_type": "code",
      "metadata": {
        "id": "wiiKyyo7Ev6J",
        "colab": {
          "base_uri": "https://localhost:8080/"
        },
        "outputId": "66f671cf-7b33-496d-df1b-2cd2c25f27e7"
      },
      "source": [
        "InChIEncoder(vocab_size=199, inchi_embedding_dim=512, num_chars=200, use_convolutions=False).summary()"
      ],
      "execution_count": 21,
      "outputs": [
        {
          "output_type": "stream",
          "text": [
            "Model: \"InChIEncoder\"\n",
            "__________________________________________________________________________________________________\n",
            "Layer (type)                    Output Shape         Param #     Connected to                     \n",
            "==================================================================================================\n",
            "tokenized_inchi (InputLayer)    [(None, 200)]        0                                            \n",
            "__________________________________________________________________________________________________\n",
            "start_var (InputLayer)          [(None, 1, 512)]     0                                            \n",
            "__________________________________________________________________________________________________\n",
            "tf.__operators__.getitem (Slici (None, 199)          0           tokenized_inchi[0][0]            \n",
            "__________________________________________________________________________________________________\n",
            "positional_encoding (InputLayer [(None, 200, 512)]   0                                            \n",
            "__________________________________________________________________________________________________\n",
            "tf.cast (TFOpLambda)            (None, 1, 512)       0           start_var[0][0]                  \n",
            "__________________________________________________________________________________________________\n",
            "embedding (Embedding)           (None, 199, 512)     101888      tf.__operators__.getitem[0][0]   \n",
            "__________________________________________________________________________________________________\n",
            "tf.cast_1 (TFOpLambda)          (None, 200, 512)     0           positional_encoding[0][0]        \n",
            "__________________________________________________________________________________________________\n",
            "concatenate (Concatenate)       (None, 200, 512)     0           tf.cast[0][0]                    \n",
            "                                                                 embedding[0][0]                  \n",
            "__________________________________________________________________________________________________\n",
            "add (Add)                       (None, 200, 512)     0           tf.cast_1[0][0]                  \n",
            "                                                                 concatenate[0][0]                \n",
            "==================================================================================================\n",
            "Total params: 101,888\n",
            "Trainable params: 101,888\n",
            "Non-trainable params: 0\n",
            "__________________________________________________________________________________________________\n"
          ],
          "name": "stdout"
        }
      ]
    },
    {
      "cell_type": "markdown",
      "metadata": {
        "id": "FESofcGdEaWF"
      },
      "source": [
        "# Image Encoder\n",
        "\n",
        "Feature Extraction Step 1: Run the images through a pre-trained image network, extracting features as the output of an intermediate convolutional layer. [Technique from \"Show, Attend and Tell: Neural Image Caption Generation with Visual Attention,\" cited at the top of this notebook.]  A dense layer is added for transfer learning and to control the dimension of the attention mechanism used later."
      ]
    },
    {
      "cell_type": "code",
      "metadata": {
        "id": "BdTKFUFKfHeU"
      },
      "source": [
        "def ImageFeaturesExtractor(image_shape):\n",
        "    \n",
        "    # Note: temporarily disable mixed precision during load. (Model doesn't handle it properly)\n",
        "    tf.keras.mixed_precision.set_global_policy('float32')  # removed mixed precision\n",
        "\n",
        "    base_transfer_model = keras.applications.EfficientNetB2(\n",
        "                            include_top=False, \n",
        "                            weights=None,\n",
        "                            input_shape=(*image_shape[:2], 3))\n",
        "    tf.keras.mixed_precision.set_global_policy('float32')  # removed mixed precision\n",
        "\n",
        "    # revert to orig mixed precision policy\n",
        "    tf.keras.mixed_precision.set_global_policy(PARAMETERS.mixed_precision()) \n",
        "\n",
        "    model = keras.Model(inputs=base_transfer_model.inputs, \n",
        "                        outputs=base_transfer_model.get_layer('top_activation').output, \n",
        "                        name='ImageFeaturesExtractor')\n",
        "    \n",
        "    return model"
      ],
      "execution_count": 22,
      "outputs": []
    },
    {
      "cell_type": "code",
      "metadata": {
        "id": "N3OKI_t3f1hr"
      },
      "source": [
        "def ImageEncoder(image_shape, encoder_dim, ImageFeaturesExtractor):\n",
        "\n",
        "    num_features = ImageFeaturesExtractor.output_shape[-3] * ImageFeaturesExtractor.output_shape[-2]\n",
        "\n",
        "    image = keras.layers.Input(image_shape, name='image')\n",
        "    pos_encoding = keras.layers.Input([num_features, encoder_dim], name='positional_encoding')\n",
        "\n",
        "    inputs = [image, pos_encoding]\n",
        "    \n",
        "    # get features\n",
        "    image = ImageFeaturesExtractor(image)\n",
        "\n",
        "    # update dims\n",
        "    image = keras.layers.Dense(encoder_dim)(image)\n",
        "    image = keras.layers.Dense(encoder_dim)(image)\n",
        "\n",
        "    # reshape as feature vectors\n",
        "    image = keras.layers.Reshape([-1, encoder_dim])(image)\n",
        "\n",
        "    # add positional encoding\n",
        "    pos_encoding = tf.cast(pos_encoding, dtype=image.dtype)\n",
        "    image = keras.layers.Add(name='add_positional_encoding')([image, pos_encoding])\n",
        "\n",
        "    outputs = [image]\n",
        "\n",
        "    return keras.Model(inputs, outputs, name='ImageEncoder')"
      ],
      "execution_count": 23,
      "outputs": []
    },
    {
      "cell_type": "code",
      "metadata": {
        "id": "SyEeXgr5f1hr",
        "colab": {
          "base_uri": "https://localhost:8080/"
        },
        "outputId": "40c21c8c-2e07-49d5-c272-9ca31771005c"
      },
      "source": [
        "temp_image_shape=(320,320,3)\n",
        "\n",
        "ImageEncoder(image_shape=temp_image_shape, \n",
        "             encoder_dim=256,\n",
        "             ImageFeaturesExtractor=ImageFeaturesExtractor(temp_image_shape)).summary()"
      ],
      "execution_count": 24,
      "outputs": [
        {
          "output_type": "stream",
          "text": [
            "Model: \"ImageEncoder\"\n",
            "__________________________________________________________________________________________________\n",
            "Layer (type)                    Output Shape         Param #     Connected to                     \n",
            "==================================================================================================\n",
            "image (InputLayer)              [(None, 320, 320, 3) 0                                            \n",
            "__________________________________________________________________________________________________\n",
            "ImageFeaturesExtractor (Functio (None, 10, 10, 1408) 7768569     image[0][0]                      \n",
            "__________________________________________________________________________________________________\n",
            "dense (Dense)                   (None, 10, 10, 256)  360704      ImageFeaturesExtractor[0][0]     \n",
            "__________________________________________________________________________________________________\n",
            "dense_1 (Dense)                 (None, 10, 10, 256)  65792       dense[0][0]                      \n",
            "__________________________________________________________________________________________________\n",
            "positional_encoding (InputLayer [(None, 100, 256)]   0                                            \n",
            "__________________________________________________________________________________________________\n",
            "reshape (Reshape)               (None, 100, 256)     0           dense_1[0][0]                    \n",
            "__________________________________________________________________________________________________\n",
            "tf.cast_2 (TFOpLambda)          (None, 100, 256)     0           positional_encoding[0][0]        \n",
            "__________________________________________________________________________________________________\n",
            "add_positional_encoding (Add)   (None, 100, 256)     0           reshape[0][0]                    \n",
            "                                                                 tf.cast_2[0][0]                  \n",
            "==================================================================================================\n",
            "Total params: 8,195,065\n",
            "Trainable params: 8,127,490\n",
            "Non-trainable params: 67,575\n",
            "__________________________________________________________________________________________________\n"
          ],
          "name": "stdout"
        }
      ]
    },
    {
      "cell_type": "markdown",
      "metadata": {
        "id": "XGYH_nP3Efsk"
      },
      "source": [
        "## Encoder Attention\n",
        "\n",
        "Feature Extraction Step 2: Now that we have basic feature vectors, we use self-attention to generate more complex features. This is the encoding step used in \"Attention is All You Need,\" cited above. "
      ]
    },
    {
      "cell_type": "code",
      "metadata": {
        "id": "Tmq0PjxxjayJ"
      },
      "source": [
        "def EncoderAttention(num_blocks, num_attention_heads, features_dim, num_encoder_features):\n",
        "\n",
        "    # Inputs\n",
        "    encoder_features = keras.layers.Input([num_encoder_features, features_dim], name='encoder_features')\n",
        "    inputs = [encoder_features]\n",
        "\n",
        "    for i in range(num_blocks):\n",
        "        # self attention block\n",
        "        AttentionLayer = keras.layers.MultiHeadAttention(num_heads=num_attention_heads, \n",
        "                                       key_dim = features_dim//num_attention_heads, \n",
        "                                       dropout=0.1, name=f'SelfAttention_{i}')\n",
        "\n",
        "        attention_features = AttentionLayer(query=encoder_features, \n",
        "                                    value=encoder_features, \n",
        "                                    attention_mask=None)\n",
        "        \n",
        "        encoder_features = keras.layers.Add()([encoder_features, attention_features])\n",
        "        encoder_features = keras.layers.LayerNormalization()(encoder_features)\n",
        "\n",
        "        # feed forward block\n",
        "        dense_features = keras.layers.Dense(features_dim, activation='relu')(encoder_features)\n",
        "        dense_features = keras.layers.Dense(features_dim, activation=None)(dense_features)\n",
        "\n",
        "        dense_features = keras.layers.Dropout(rate=.1)(dense_features)\n",
        "        encoder_features = keras.layers.Add()([encoder_features, dense_features])\n",
        "        encoder_features = keras.layers.LayerNormalization()(encoder_features)\n",
        "\n",
        "    outputs = [encoder_features]\n",
        "\n",
        "    return keras.Model(inputs, outputs, name='EncoderAttention')"
      ],
      "execution_count": 25,
      "outputs": []
    },
    {
      "cell_type": "code",
      "metadata": {
        "id": "6g8x4_cpkJ9A",
        "colab": {
          "base_uri": "https://localhost:8080/"
        },
        "outputId": "33369a9c-3408-4815-ff16-a76864dfc6ae"
      },
      "source": [
        "EncoderAttention(num_blocks=1, num_attention_heads=8, features_dim=256, num_encoder_features=100).summary()"
      ],
      "execution_count": 26,
      "outputs": [
        {
          "output_type": "stream",
          "text": [
            "Model: \"EncoderAttention\"\n",
            "__________________________________________________________________________________________________\n",
            "Layer (type)                    Output Shape         Param #     Connected to                     \n",
            "==================================================================================================\n",
            "encoder_features (InputLayer)   [(None, 100, 256)]   0                                            \n",
            "__________________________________________________________________________________________________\n",
            "SelfAttention_0 (MultiHeadAtten (None, 100, 256)     263168      encoder_features[0][0]           \n",
            "                                                                 encoder_features[0][0]           \n",
            "__________________________________________________________________________________________________\n",
            "add_1 (Add)                     (None, 100, 256)     0           encoder_features[0][0]           \n",
            "                                                                 SelfAttention_0[0][0]            \n",
            "__________________________________________________________________________________________________\n",
            "layer_normalization (LayerNorma (None, 100, 256)     512         add_1[0][0]                      \n",
            "__________________________________________________________________________________________________\n",
            "dense_2 (Dense)                 (None, 100, 256)     65792       layer_normalization[0][0]        \n",
            "__________________________________________________________________________________________________\n",
            "dense_3 (Dense)                 (None, 100, 256)     65792       dense_2[0][0]                    \n",
            "__________________________________________________________________________________________________\n",
            "dropout (Dropout)               (None, 100, 256)     0           dense_3[0][0]                    \n",
            "__________________________________________________________________________________________________\n",
            "add_2 (Add)                     (None, 100, 256)     0           layer_normalization[0][0]        \n",
            "                                                                 dropout[0][0]                    \n",
            "__________________________________________________________________________________________________\n",
            "layer_normalization_1 (LayerNor (None, 100, 256)     512         add_2[0][0]                      \n",
            "==================================================================================================\n",
            "Total params: 395,776\n",
            "Trainable params: 395,776\n",
            "Non-trainable params: 0\n",
            "__________________________________________________________________________________________________\n"
          ],
          "name": "stdout"
        }
      ]
    },
    {
      "cell_type": "markdown",
      "metadata": {
        "id": "6qFDs9RTjvod"
      },
      "source": [
        "## Decoder Attention\n",
        "\n",
        "Text Feature extraction + Encoder/Decoder Joint Attention interaction. This is implemented as a subclassed model (not Functional API) for extra flexibility in input shapes. This will allow for a quicker inference loop."
      ]
    },
    {
      "cell_type": "code",
      "metadata": {
        "id": "o5vuCNpfd2R9"
      },
      "source": [
        "class DecoderAttentionBlock(keras.layers.Layer):\n",
        "\n",
        "    def __init__(self, num_attention_heads, max_steps, **kwargs):\n",
        "        super().__init__(**kwargs)\n",
        "\n",
        "        self.num_attention_heads = num_attention_heads\n",
        "\n",
        "        self.max_steps = max_steps\n",
        "\n",
        "       \n",
        "\n",
        "        # mask\n",
        "        ones = tf.ones([self.max_steps, self.max_steps])\n",
        "        self.full_self_attention_mask = tf.linalg.band_part(ones, -1, 0)\n",
        "\n",
        "    def get_config(self):\n",
        "        config = {'num_attention_heads': self.num_attention_heads,\n",
        "                  'max_steps': max_steps\n",
        "        }\n",
        "        return config\n",
        "\n",
        "    def build(self, input_shape):\n",
        "        decoder_shape = input_shape[1]\n",
        "        self.decoder_dim = decoder_shape[-1]\n",
        "\n",
        "        # Self Attention Layers\n",
        "        self.SelfAttentionLayer = keras.layers.MultiHeadAttention(\n",
        "                                    num_heads=self.num_attention_heads, \n",
        "                                    key_dim=self.decoder_dim//self.num_attention_heads,\n",
        "                                    dropout=0.1,\n",
        "                                    name=f'SelfAttention')\n",
        "        self.SelfLayerNorm = keras.layers.LayerNormalization()\n",
        "\n",
        "        \n",
        "        # Joint Attention Layers\n",
        "        self.JointAttentionLayer = keras.layers.MultiHeadAttention(\n",
        "                                    num_heads=self.num_attention_heads, \n",
        "                                    key_dim=self.decoder_dim//self.num_attention_heads,\n",
        "                                    dropout=0.1,\n",
        "                                    name=f'JointAttention')\n",
        "        self.JointLayerNorm = keras.layers.LayerNormalization()\n",
        "\n",
        "        # Feed Forward Layers                \n",
        "        self.DenseRelu = keras.layers.Dense(self.decoder_dim, activation='relu')\n",
        "        self.Dense = keras.layers.Dense(self.decoder_dim, activation=None)\n",
        "        self.LayerNorm = keras.layers.LayerNormalization()\n",
        "\n",
        "\n",
        "    # fixed shape call for XLA\n",
        "    def call(self, inputs, training=False):  \n",
        "        mask = self.full_self_attention_mask        \n",
        "        return self.shared_call_steps(inputs=inputs, mask=mask, training=training)\n",
        "\n",
        "    # variable shape for inference (not XLA compatible)\n",
        "    def flexible_call(self, inputs, inference_step, training=False):  \n",
        "        \n",
        "        encoder_features = inputs[0]\n",
        "        decoder_features = inputs[1]\n",
        "\n",
        "        # restrict to features of interest       \n",
        "        # note: '+1' needed due to indexing used in main function\n",
        "        decoder_features = decoder_features[:, :inference_step+1, :]  \n",
        "        inputs = [encoder_features, decoder_features]\n",
        "\n",
        "        # self-attention mask\n",
        "        ones = tf.ones([inference_step+1, inference_step+1])\n",
        "        self_attention_mask = tf.linalg.band_part(ones, -1, 0)\n",
        "        \n",
        "        return self.shared_call_steps(inputs=inputs, mask=self_attention_mask, training=training)\n",
        "\n",
        "    def shared_call_steps(self, inputs, mask, training=False):\n",
        "        encoder_features = inputs[0]\n",
        "        decoder_features = inputs[1]\n",
        "\n",
        "\n",
        "        # Self Attention Block                \n",
        "        attention_features = self.SelfAttentionLayer(query=decoder_features, \n",
        "                                                    value=decoder_features, \n",
        "                                                    attention_mask=mask,   \n",
        "                                                    training=training)\n",
        "\n",
        "        decoder_features = keras.layers.Add()([decoder_features, attention_features])\n",
        "        decoder_features = self.SelfLayerNorm (decoder_features, training=training)\n",
        "\n",
        "        \n",
        "\n",
        "        # Joint Attention Block\n",
        "        attention_features = self.JointAttentionLayer(query=decoder_features, \n",
        "                                                      value=encoder_features, \n",
        "                                                      attention_mask=None,\n",
        "                                                      training=training)      \n",
        "        decoder_features = keras.layers.Add()([decoder_features, attention_features])\n",
        "        decoder_features = self.JointLayerNorm(decoder_features, training=training)\n",
        "\n",
        "        \n",
        "        # Feed Forward Block                \n",
        "        dense_features = self.DenseRelu(decoder_features)\n",
        "        dense_features = self.Dense(dense_features)\n",
        "        \n",
        "        dense_features = keras.layers.Dropout(rate=.1)(dense_features, training=training)\n",
        "        decoder_features = keras.layers.Add()([decoder_features, dense_features])\n",
        "        decoder_features = self.LayerNorm(decoder_features, training=training)\n",
        "\n",
        "        return decoder_features      \n",
        "        "
      ],
      "execution_count": 27,
      "outputs": []
    },
    {
      "cell_type": "code",
      "metadata": {
        "id": "m927YThukFs-"
      },
      "source": [
        "class DecoderAttention(keras.Model):\n",
        "    def __init__(self, num_blocks, num_attention_heads, max_steps, name='DecoderAttention', **kwargs):\n",
        "        super().__init__(name=name, **kwargs)\n",
        "\n",
        "        self.num_blocks = num_blocks\n",
        "        self.num_attention_heads = num_attention_heads\n",
        "        self.max_steps = max_steps\n",
        "\n",
        "        self.Blocks = []\n",
        "        for i in range(self.num_blocks):\n",
        "            block = DecoderAttentionBlock(num_attention_heads=self.num_attention_heads, \n",
        "                                          max_steps=self.max_steps, \n",
        "                                          name=f'DecoderBlock_{i}')\n",
        "            self.Blocks.append(block)\n",
        "            \n",
        "    def get_config(self):\n",
        "        config = {'num_blocks': self.num_blocks,\n",
        "                  'num_attention_heads': self.num_attention_heads,\n",
        "                  'max_steps': max_steps\n",
        "        }\n",
        "        return config \n",
        "        \n",
        "    # fixed shapes for XLA compiler\n",
        "    def call(self, inputs, training=False):\n",
        "        encoder_features = inputs[0]\n",
        "        decoder_features = inputs[1]\n",
        "\n",
        "        # regularization\n",
        "        decoder_features = keras.layers.SpatialDropout1D(rate=.05)(decoder_features, training=training)\n",
        "    \n",
        "        for i in range(self.num_blocks ):\n",
        "            decoder_features = self.Blocks[i]([encoder_features, decoder_features], training=training)\n",
        "\n",
        "        return decoder_features\n",
        "\n",
        "    # alt call with variable shapes (not XLA compatible). \n",
        "    # Provides faster inference on GPU but not yet working on TPU\n",
        "    def flexible_call(self, inputs, inference_step, training=False):\n",
        "        encoder_features = inputs[0]\n",
        "        decoder_features = inputs[1]\n",
        "\n",
        "        # regularization\n",
        "        decoder_features = keras.layers.SpatialDropout1D(rate=.05)(decoder_features, training=training)\n",
        "    \n",
        "        for i in range(self.num_blocks ):\n",
        "            decoder_features = self.Blocks[i].flexible_call(inputs=[encoder_features, decoder_features], \n",
        "                                              inference_step=inference_step, training=training)\n",
        "\n",
        "        return decoder_features"
      ],
      "execution_count": 28,
      "outputs": []
    },
    {
      "cell_type": "code",
      "metadata": {
        "colab": {
          "base_uri": "https://localhost:8080/"
        },
        "id": "IeoWVJr2ifx2",
        "outputId": "08ba6ff3-e029-4780-ed50-3f11ed183ec1"
      },
      "source": [
        "temp_dec = DecoderAttention(num_blocks=2, num_attention_heads=2, max_steps=200)\n",
        "temp_dec([tf.ones((2,100,256)), tf.ones((2,200,512))])\n",
        "temp_dec.flexible_call([tf.ones((2,100,256)), tf.ones((2,200,512))], inference_step=3)\n",
        "temp_dec.summary()"
      ],
      "execution_count": 29,
      "outputs": [
        {
          "output_type": "stream",
          "text": [
            "Model: \"DecoderAttention\"\n",
            "_________________________________________________________________\n",
            "Layer (type)                 Output Shape              Param #   \n",
            "=================================================================\n",
            "DecoderBlock_0 (DecoderAtten multiple                  2367488   \n",
            "_________________________________________________________________\n",
            "DecoderBlock_1 (DecoderAtten multiple                  2367488   \n",
            "=================================================================\n",
            "Total params: 4,734,976\n",
            "Trainable params: 4,734,976\n",
            "Non-trainable params: 0\n",
            "_________________________________________________________________\n"
          ],
          "name": "stdout"
        }
      ]
    },
    {
      "cell_type": "markdown",
      "metadata": {
        "id": "38GA7wtNEhqW"
      },
      "source": [
        "## Decoder Head (Prediction Output)\n",
        "\n",
        "This is where we use what was learned in the encoder-decoder attention to output predicted labels. It is the prediction step from \"Attention is All You Need.\""
      ]
    },
    {
      "cell_type": "code",
      "metadata": {
        "id": "C2LMbmclf1hs"
      },
      "source": [
        "def DecoderHead(decoder_dim, vocab_size, dual_heads_split_step=None):\n",
        "   \n",
        "    # Inputs\n",
        "    decoder_features = keras.layers.Input([None, decoder_dim], name='decoder_features')\n",
        "    inputs = [decoder_features]\n",
        "\n",
        "    # Model\n",
        "    if dual_heads_split_step is None:\n",
        "        logits = keras.layers.Dense(vocab_size)(decoder_features)\n",
        "\n",
        "    else:\n",
        "        decoder_features_0 = decoder_features[:, :dual_heads_split_step, :]\n",
        "        decoder_features_1 = decoder_features[:, dual_heads_split_step:, :]\n",
        "\n",
        "        logits_0 = keras.layers.Dense(vocab_size)(decoder_features_0)\n",
        "        logits_1 = keras.layers.Dense(vocab_size)(decoder_features_1)\n",
        "\n",
        "        logits = keras.layers.Concatenate(axis=1)([logits_0, logits_1])\n",
        "    \n",
        "    probabilities = keras.layers.Softmax(dtype=tf.float32)(logits)\n",
        "\n",
        "    outputs = [probabilities]\n",
        "\n",
        "    return keras.Model(inputs, outputs, name='DecoderHead')"
      ],
      "execution_count": 30,
      "outputs": []
    },
    {
      "cell_type": "code",
      "metadata": {
        "id": "Js6yvxIGf1hs",
        "colab": {
          "base_uri": "https://localhost:8080/"
        },
        "outputId": "e797a842-27cb-4b8d-d9fa-a8e634611e55"
      },
      "source": [
        "DecoderHead(decoder_dim=512, vocab_size=199, dual_heads_split_step=None).summary()"
      ],
      "execution_count": 31,
      "outputs": [
        {
          "output_type": "stream",
          "text": [
            "Model: \"DecoderHead\"\n",
            "_________________________________________________________________\n",
            "Layer (type)                 Output Shape              Param #   \n",
            "=================================================================\n",
            "decoder_features (InputLayer [(None, None, 512)]       0         \n",
            "_________________________________________________________________\n",
            "dense_8 (Dense)              (None, None, 199)         102087    \n",
            "_________________________________________________________________\n",
            "softmax_4 (Softmax)          (None, None, 199)         0         \n",
            "=================================================================\n",
            "Total params: 102,087\n",
            "Trainable params: 102,087\n",
            "Non-trainable params: 0\n",
            "_________________________________________________________________\n"
          ],
          "name": "stdout"
        }
      ]
    },
    {
      "cell_type": "markdown",
      "metadata": {
        "id": "_2UR1DLljD0S"
      },
      "source": [
        "## Update Mechanism (Optional)\n",
        "\n",
        "*Note: this is fully coded but I have not had time to train parameters with it. I leave that as a future opportunity for exploration.*\n",
        "\n",
        "NLP technicques typically output logits to find the highest likelhood token prediction. This can be improved to a (local) maximum likelihood selection using a \"beam step\" that ay override the initial prediction choice. \n",
        "\n",
        "This layer is an alternative system for updating predictions. Unlike \"beam,\" it is trainable and includes longer-range dependencies (instead of the very \"local\" beam step.) The entire original prediction is passed through a bidirectional RNN (decoder feature extraction) followed by AIAYN stye attention blocks. No masking is needed since we have the full RNN output to work with."
      ]
    },
    {
      "cell_type": "code",
      "metadata": {
        "id": "tpM3FS5zZ-3Y",
        "colab": {
          "base_uri": "https://localhost:8080/"
        },
        "outputId": "f8e211c7-67ec-4805-ad83-df9ef2b2be3c"
      },
      "source": [
        "def BeamUpdate(num_beam_blocks, num_att_blocks, num_attention_heads, \n",
        "               num_encoder_vectors, encoder_units, \n",
        "               decoder_units, max_len, vocab_size, name='BeamUpdate'):\n",
        "        \n",
        "    # layers\n",
        "    # note: GRU doesn't appear to be compatible with reduced precision\n",
        "    tf.keras.mixed_precision.set_global_policy('float32')  # temporarily disable mixed precision\n",
        "    BeamUnit = keras.layers.GRU(decoder_units, return_sequences=True, \n",
        "                    return_state=True, go_backwards=True,\n",
        "                    dtype=tf.keras.mixed_precision.Policy('float32'))  \n",
        "    \n",
        "    #tf.keras.mixed_precision.set_global_policy(PARAMETERS.mixed_precision())  # reset mixed precision\n",
        "\n",
        "    BeamDecoderAttention = DecoderAttention(num_blocks=num_att_blocks, \n",
        "                                            num_attention_heads=num_attention_heads, \n",
        "                                            max_steps=max_len,\n",
        "                                            name='BeamDecoderAttention')\n",
        "\n",
        "    BeamDecoderHead = DecoderHead(decoder_dim=decoder_units, \n",
        "                                  vocab_size=vocab_size,  \n",
        "                                  dual_heads_split_step=None)\n",
        "\n",
        "    # Inputs\n",
        "    beam_input = keras.layers.Input([max_len, vocab_size], name='beam_input') \n",
        "    hidden_state = keras.layers.Input([decoder_units], name='hidden_state')\n",
        "    encoder_features = keras.layers.Input([num_encoder_vectors, encoder_units], name='encoder_features')   # from image \n",
        "    mask = keras.layers.Input([max_len, max_len], name='mask')   # should pass in all 1's, i.e. no masking\n",
        "    \n",
        "    inputs = [beam_input, hidden_state, encoder_features, mask]\n",
        "\n",
        "    # create initial hidden state for RNN dim = decoder_units\n",
        "    beam_hidden_state = tf.reduce_mean(encoder_features, -2)\n",
        "    beam_hidden_state = keras.layers.Dense(decoder_units, activation='relu')(beam_hidden_state)\n",
        "    \n",
        "    # Decoder encoding using 1 or more Beam layers\n",
        "    for i in range(num_beam_blocks):\n",
        "        beam_out, beam_hidden_state = \\\n",
        "            BeamUnit(beam_input, initial_state=[beam_hidden_state])\n",
        "\n",
        "    # Attention & Prediction (uses \"Attention is All You Need\" structure)\n",
        "    decoder_features = BeamDecoderAttention([encoder_features, beam_out, mask])\n",
        "\n",
        "    probs = BeamDecoderHead([decoder_features])  \n",
        "\n",
        "    outputs = [probs]\n",
        "\n",
        "    return keras.Model(inputs, outputs, name=name)\n",
        "\n",
        "\n",
        "BeamUpdate(num_beam_blocks=1, num_att_blocks=1, num_attention_heads=8, num_encoder_vectors=50, encoder_units=256, \n",
        "            decoder_units=512, max_len=200, vocab_size=160, name='BeamUpdate').summary()"
      ],
      "execution_count": 32,
      "outputs": [
        {
          "output_type": "stream",
          "text": [
            "Model: \"BeamUpdate\"\n",
            "__________________________________________________________________________________________________\n",
            "Layer (type)                    Output Shape         Param #     Connected to                     \n",
            "==================================================================================================\n",
            "encoder_features (InputLayer)   [(None, 50, 256)]    0                                            \n",
            "__________________________________________________________________________________________________\n",
            "tf.math.reduce_mean (TFOpLambda (None, 256)          0           encoder_features[0][0]           \n",
            "__________________________________________________________________________________________________\n",
            "beam_input (InputLayer)         [(None, 200, 160)]   0                                            \n",
            "__________________________________________________________________________________________________\n",
            "dense_10 (Dense)                (None, 512)          131584      tf.math.reduce_mean[0][0]        \n",
            "__________________________________________________________________________________________________\n",
            "gru (GRU)                       [(None, 200, 512), ( 1035264     beam_input[0][0]                 \n",
            "                                                                 dense_10[0][0]                   \n",
            "__________________________________________________________________________________________________\n",
            "mask (InputLayer)               [(None, 200, 200)]   0                                            \n",
            "__________________________________________________________________________________________________\n",
            "BeamDecoderAttention (DecoderAt (None, 200, 512)     2367488     encoder_features[0][0]           \n",
            "                                                                 gru[0][0]                        \n",
            "                                                                 mask[0][0]                       \n",
            "__________________________________________________________________________________________________\n",
            "hidden_state (InputLayer)       [(None, 512)]        0                                            \n",
            "__________________________________________________________________________________________________\n",
            "DecoderHead (Functional)        (None, None, 160)    82080       BeamDecoderAttention[0][0]       \n",
            "==================================================================================================\n",
            "Total params: 3,616,416\n",
            "Trainable params: 3,616,416\n",
            "Non-trainable params: 0\n",
            "__________________________________________________________________________________________________\n"
          ],
          "name": "stdout"
        }
      ]
    },
    {
      "cell_type": "markdown",
      "metadata": {
        "id": "D6GIs3f3rpu0"
      },
      "source": [
        "# **Full Model**\n",
        "\n",
        "All the components are combined into a full encoder/decoder model. This is implemented using the subclassing API with custom call, train,  evaluation and prediction steps. Once initialized, the models have full access to high-level model.fit(), model.compile() and model.save_weights() methods.\n",
        "\n",
        "An extra features implemented is having Decoder() elements in *series* (not stacked). This adds more trainable parameters without affecting inference speed, and allows decoders to specialize more on different regions of the text.\n",
        "\n",
        "BaseTrainer() model has the BeamUpdate mechanism disabled. InchiGenerator() models include the BeamUpdate."
      ]
    },
    {
      "cell_type": "code",
      "metadata": {
        "id": "OcEV3ifLf1hs"
      },
      "source": [
        "class TrainerModel(keras.Model):\n",
        "\n",
        "    def __init__(self, encoder_blocks, encoder_dim, decoder_blocks, decoder_dim, \n",
        "                 dual_heads_split_step=None, use_convolutions=False, parameters=PARAMETERS, \n",
        "                 name='TrainerModel', **kwargs):\n",
        "        \n",
        "        super().__init__(name=name, **kwargs)\n",
        "\n",
        "        self.encoder_blocks = encoder_blocks\n",
        "        self.encoder_dim = encoder_dim\n",
        "        self.decoder_blocks = decoder_blocks\n",
        "        self.decoder_dim = decoder_dim\n",
        "        self.dual_heads_split_step = dual_heads_split_step\n",
        "        self.use_convolutions = use_convolutions\n",
        "        self.parameters = parameters\n",
        "\n",
        "        tokenizer_layer, self.inverse_tokenizer, self.tokenized_EOS = \\\n",
        "            Tokenizer(parameters=self.parameters)\n",
        "        self.vocab_size = tokenizer_layer.vocabulary_size()\n",
        "        self.EOS = parameters.EOS()\n",
        "\n",
        "\n",
        "    def get_config(self):\n",
        "        config = {'encoder_blocks': self.encoder_blocks,\n",
        "                  'encoder_dim': self.encoder_dim,\n",
        "                  'decoder_blocks':self.decoder_blocks,\n",
        "                  'decoder_dim': self.decoder_dim,\n",
        "                  'dual_heads_split_step': self.dual_heads_split_step,\n",
        "                  'use_convolutions': self.use_convolutions,\n",
        "                  'parameters':self.parameters,\n",
        "        }\n",
        "        return config \n",
        "\n",
        "\n",
        "    def build(self, input_shape):\n",
        "\n",
        "        self.batch_size = input_shape[0][0]\n",
        "        image_shape = input_shape[0][1:]\n",
        "        tokenized_inchi_shape = input_shape[1][1:]\n",
        "        self.padded_length = tokenized_inchi_shape[0]\n",
        "        \n",
        "        ###### InChI  ######\n",
        "        # InChI start variable\n",
        "        initializer = tf.random_normal_initializer()(shape=[1, 1, self.decoder_dim])\n",
        "        start_var = tf.Variable(initializer, trainable=True, dtype=tf.float32, name='start_var')\n",
        "        self.start_var = tf.tile(start_var, [self.batch_size, 1, 1])\n",
        "\n",
        "        # InChI encoder\n",
        "        self.InChIEncoder = InChIEncoder(vocab_size=self.vocab_size, \n",
        "                                         inchi_embedding_dim=self.decoder_dim, \n",
        "                                         num_chars=self.padded_length,\n",
        "                                         use_convolutions=self.use_convolutions)\n",
        "        \n",
        "        # InChI positional encoding variable\n",
        "        initializer = tf.random_normal_initializer()(\n",
        "            shape=[1, self.padded_length, self.decoder_dim], dtype=tf.float32)\n",
        "        positional_encoding_inchi = tf.Variable(initializer, trainable=True, \n",
        "                                                     name='positional_encoding_inchi')\n",
        "        self.positional_encoding_inchi = tf.tile(positional_encoding_inchi, \n",
        "                                                 [self.batch_size, 1, 1])\n",
        "\n",
        "        ###### Image  ######\n",
        "        self.ImageFeaturesExtractor = ImageFeaturesExtractor(image_shape)\n",
        "        \n",
        "        self.ImageEncoder = ImageEncoder(image_shape=image_shape, \n",
        "                                         encoder_dim=self.encoder_dim, \n",
        "                                         ImageFeaturesExtractor=self.ImageFeaturesExtractor)\n",
        "        \n",
        "        self.num_image_features = self.ImageEncoder.output_shape[-2]\n",
        "\n",
        "        # Image positional encoding variable\n",
        "        initializer = tf.random_normal_initializer()(\n",
        "            shape=[1, self.num_image_features, self.encoder_dim], dtype=tf.float32)\n",
        "        positional_encoding_image = tf.Variable(initializer, trainable=True, \n",
        "                                                     name='positional_encoding_image')\n",
        "        self.positional_encoding_image = tf.tile(positional_encoding_image, \n",
        "                                                 [self.batch_size, 1, 1])\n",
        "\n",
        "        ###### Transformers  ######\n",
        "        self.EncoderAttention = EncoderAttention(num_blocks=self.encoder_blocks, \n",
        "                                                 num_attention_heads=8, \n",
        "                                                 features_dim=self.encoder_dim,\n",
        "                                                 num_encoder_features=self.num_image_features)\n",
        "        \n",
        "        self.DecoderAttention = DecoderAttention(num_blocks=self.decoder_blocks, \n",
        "                                                 num_attention_heads=8,\n",
        "                                                 max_steps=self.padded_length)\n",
        "        \n",
        "        self.DecoderHead = DecoderHead(decoder_dim=self.decoder_dim, \n",
        "                                       vocab_size=self.vocab_size, \n",
        "                                       dual_heads_split_step=self.dual_heads_split_step)\n",
        "        \n",
        "    # NOTE: call is used for training only\n",
        "    def call(self, inputs, training=False):\n",
        "\n",
        "        if training:\n",
        "            image = inputs[0]\n",
        "            tokenized_inchi = inputs[1]\n",
        "\n",
        "            # encoder\n",
        "            encoder_features = self.ImageEncoder(\n",
        "                [image, self.positional_encoding_image], training=training)\n",
        "            \n",
        "            encoder_features = self.EncoderAttention(encoder_features, training=training)\n",
        "            \n",
        "            # decoder\n",
        "            decoder_features = self.InChIEncoder(\n",
        "                [tokenized_inchi, self.start_var, self.positional_encoding_inchi], training=training)\n",
        "\n",
        "            decoder_features = self.DecoderAttention(\n",
        "                [encoder_features, decoder_features], training=training)\n",
        "\n",
        "            # predictions\n",
        "            probabilities = self.DecoderHead(decoder_features, training=training)\n",
        "\n",
        "        else:\n",
        "            probabilities = self.generation_loop(inputs, training=False)\n",
        "\n",
        "        return probabilities\n",
        "\n",
        "    # inference yielding generated probabilities from a single batch input\n",
        "    @tf.function\n",
        "    def generation_loop(self, inputs, training=False):\n",
        "        \n",
        "        image = inputs[0]\n",
        "        tokenized_inchi = inputs[1]\n",
        "\n",
        "        # get shapes\n",
        "        padded_length = self.padded_length\n",
        "        batch_size = self.batch_size\n",
        "\n",
        "        # encoder\n",
        "        encoder_features = self.ImageEncoder(\n",
        "            [image, self.positional_encoding_image], training=training)\n",
        "        \n",
        "        encoder_features = self.EncoderAttention(encoder_features, training=training)\n",
        "        \n",
        "        # decoder\n",
        "        # create containers\n",
        "        generated_probs = tf.TensorArray(dtype=tf.float32, size=padded_length,\n",
        "                element_shape=tf.TensorShape([self.batch_size, self.vocab_size]))\n",
        "        generated_inchi = tf.TensorArray(dtype=tf.int32, size=padded_length,\n",
        "                element_shape=tf.TensorShape([self.batch_size]))\n",
        "        \n",
        "        # initialize generated probs array\n",
        "        zeros = tf.zeros((self.batch_size, self.vocab_size), dtype=generated_probs.dtype)\n",
        "        for i in range(padded_length):\n",
        "            generated_probs = generated_probs.write(i, zeros)\n",
        "\n",
        "        # initialize generated InChI values array\n",
        "        zeros = tf.zeros((self.batch_size), dtype=generated_inchi.dtype)\n",
        "        for i in range(padded_length):\n",
        "            generated_inchi = generated_inchi.write(i, zeros)\n",
        "\n",
        "        # initialize step\n",
        "        step = tf.constant(0, dtype=tf.int32)\n",
        "        \n",
        "        # loop body function\n",
        "        def body_fn(generated_inchi, generated_probs, step):\n",
        "\n",
        "            inchi = tf.transpose(generated_inchi.stack(), [1,0])\n",
        "            \n",
        "            # get current step probs and save result\n",
        "            probs = self.decoder_step(encoder_features, tokenized_inchi, step)\n",
        "            generated_probs = generated_probs.write(step, tf.cast(probs, dtype=generated_probs.dtype))\n",
        "\n",
        "            # get new token prediction and save result\n",
        "            predicted_token = tf.argmax(probs, axis=-1)\n",
        "            generated_inchi = generated_inchi.write(\n",
        "                    step, tf.cast(predicted_token, dtype=generated_inchi.dtype))\n",
        "\n",
        "            # update step\n",
        "            step = step + 1\n",
        "            step = tf.cast(step, dtype=step.dtype)\n",
        "            \n",
        "            return [generated_inchi, generated_probs, step]\n",
        "\n",
        "        # loop conditional function\n",
        "        def cond_fn(generated_inchi, generated_probs, step):\n",
        "            return tf.math.less(step, padded_length)\n",
        "\n",
        "        # run generation loop\n",
        "        generated_inchi, generated_probs, step = \\\n",
        "            tf.while_loop(cond=cond_fn,\n",
        "                          body=body_fn,\n",
        "                          loop_vars=[generated_inchi, generated_probs, step],\n",
        "                          parallel_iterations=1,\n",
        "                          maximum_iterations=padded_length,\n",
        "                          shape_invariants=[None, None, tf.TensorShape([])],\n",
        "                          )\n",
        "        \n",
        "        # unpack generated probabilities\n",
        "        probabilities = tf.transpose(generated_probs.stack(), [1, 0, 2])\n",
        "\n",
        "        return probabilities\n",
        "    \n",
        "    @tf.function\n",
        "    def decoder_step(self, encoder_features, tokenized_inchi, step):\n",
        "\n",
        "        # decoder\n",
        "        decoder_features = self.InChIEncoder(\n",
        "            [tokenized_inchi, self.start_var, self.positional_encoding_inchi], training=False)\n",
        "\n",
        "\n",
        "        decoder_features = self.DecoderAttention(\n",
        "            [encoder_features, decoder_features], training=False)\n",
        "        \n",
        "        \"\"\" TODO: implementation that doesn't require full InChI vecs at each step\n",
        "        decoder_features = self.DecoderAttention.flexible_call(\n",
        "            [encoder_features, decoder_features], inference_step=step, training=False)\n",
        "        \"\"\"  \n",
        "\n",
        "        # get probabilities\n",
        "        probabilities = self.DecoderHead(decoder_features, training=False)[:, step, :]\n",
        "\n",
        "        return probabilities\n",
        "\n",
        "    @tf.function(jit_compile=False, experimental_relax_shapes=True)\n",
        "    def tokens_to_string(self, token_predictions):\n",
        "\n",
        "        # convert to strings\n",
        "        parsed_string_vals = self.inverse_tokenizer(token_predictions)\n",
        "        string_vals = keras.layers.Lambda(\n",
        "            lambda x: tf.strings.reduce_join(x, axis=-1))(parsed_string_vals)\n",
        "\n",
        "        # remove first EOS generated and everything after\n",
        "        pattern = ''.join([self.EOS, '.*$'])\n",
        "        string_vals = tf.strings.regex_replace(string_vals, pattern, rewrite='', \n",
        "                                               replace_global=True, name='remove_EOS')   \n",
        "\n",
        "        return string_vals"
      ],
      "execution_count": 33,
      "outputs": []
    },
    {
      "cell_type": "code",
      "metadata": {
        "id": "xtWg2jRlI1_W"
      },
      "source": [
        "class EditDistanceMetric(tf.keras.metrics.Metric):\n",
        "    def __init__(self, name='edit_distance', **kwargs):\n",
        "        super().__init__(name=name, **kwargs)\n",
        "        self.edit_distance = self.add_weight(name='edit_distance', initializer='zeros')\n",
        "        self.batch_counter = self.add_weight(name='batch_counter', initializer='zeros')\n",
        "    \n",
        "    def update_state(self, y_true, y_pred, sample_weight=None):\n",
        "        y_true = tf.argmax(y_true, axis=-1)  # convert one_hot vectors back to sparce categorical\n",
        "        y_true = tf.sparse.from_dense(y_true)\n",
        "        y_pred = tf.sparse.from_dense(tf.argmax(y_pred, axis=-1))  # convert probs to preds\n",
        "\n",
        "        y_true = tf.cast(y_true, tf.int32)\n",
        "        y_pred = tf.cast(y_pred, tf.int32)\n",
        "\n",
        "        # compute edit distance (of parsed tokens)\n",
        "        edit_distance = tf.edit_distance(y_pred, y_true, normalize=False)\n",
        "        self.edit_distance.assign_add(tf.reduce_mean(edit_distance))\n",
        "\n",
        "        # update counter\n",
        "        self.batch_counter.assign_add(tf.reduce_sum(1.))\n",
        "    \n",
        "    def result(self):\n",
        "        return self.edit_distance / self.batch_counter\n",
        "\n",
        "    def reset_state(self):\n",
        "        # The state of the metric will be reset at the start of each epoch.\n",
        "        self.edit_distance.assign(0.0)\n",
        "        self.batch_counter.assign(0.0)"
      ],
      "execution_count": 34,
      "outputs": []
    },
    {
      "cell_type": "code",
      "metadata": {
        "id": "Zt3klX0SYnVw",
        "colab": {
          "base_uri": "https://localhost:8080/",
          "height": 52
        },
        "outputId": "3ee1d2d4-25b0-44b9-a6b0-231336e13be8"
      },
      "source": [
        "# Modified \"Attention is All You Need\" learning scheduler (to become cyclic)\n",
        "class LRScheduleAIAYN(tf.keras.optimizers.schedules.LearningRateSchedule):\n",
        "\n",
        "    def __init__(self, scale_factor=1, warmup_steps=4000):  # defaults reflect paper's values\n",
        "        # cast dtypes\n",
        "        self.warmup_steps = tf.constant(warmup_steps, dtype=tf.float32)\n",
        "        dim = tf.constant(352, dtype=tf.float32)\n",
        "        scale_factor = tf.constant(scale_factor, dtype=tf.float32)\n",
        "        \n",
        "        self.scale = scale_factor * tf.math.pow(dim, -1.5)\n",
        "\n",
        "    def __call__(self, step):\n",
        "        step = tf.cast(step, tf.float32)\n",
        "        crit = self.warmup_steps\n",
        "\n",
        "        def false_fn(step):\n",
        "            adj_step = (step - crit) % (2.0*crit) + crit\n",
        "            return tf.math.pow(adj_step, -.5)\n",
        "\n",
        "        val = tf.cond(tf.math.less(step, crit),\n",
        "                      lambda: step * tf.math.pow(crit, -1.5),  # linear increase\n",
        "                      lambda: false_fn(step)  # decay\n",
        "                      )\n",
        "\n",
        "        return self.scale * val\n",
        "\n",
        "\"\"\"\n",
        "# visualize learning rate \n",
        "temp_lr = LRScheduleAIAYN()\n",
        "plt.plot([i for i in range(1, 16000)], [temp_lr(i) for i in range(1, 16000)])\n",
        "print('Learning Rate Schedule')\n",
        "\"\"\""
      ],
      "execution_count": 35,
      "outputs": [
        {
          "output_type": "execute_result",
          "data": {
            "application/vnd.google.colaboratory.intrinsic+json": {
              "type": "string"
            },
            "text/plain": [
              "\"\\n# visualize learning rate \\ntemp_lr = LRScheduleAIAYN()\\nplt.plot([i for i in range(1, 16000)], [temp_lr(i) for i in range(1, 16000)])\\nprint('Learning Rate Schedule')\\n\""
            ]
          },
          "metadata": {
            "tags": []
          },
          "execution_count": 35
        }
      ]
    },
    {
      "cell_type": "markdown",
      "metadata": {
        "id": "MUtswyx2ru4O"
      },
      "source": [
        "## Build Model"
      ]
    },
    {
      "cell_type": "markdown",
      "metadata": {
        "id": "yhZAEoiSYsZb"
      },
      "source": [
        "Model Parameters"
      ]
    },
    {
      "cell_type": "code",
      "metadata": {
        "id": "sDez379bi8Xy"
      },
      "source": [
        "NAME_MODIFIER = ''\n",
        "\n",
        "# build model\n",
        "IMAGE_DENSE_OUTPUT_DIM = 256  # note: only used with USE_DENSE_ENCODER_TOP = True.\n",
        "ENCODER_ATT_UNITS = 256\n",
        "DECODER_UNITS = 512  # # \"All You Need is Attention\" uses 512 units\n",
        "BEAM_RNN_UNITS = 128  # note: only used in beam_model.\n",
        "\n",
        "# Note: model has capacity for up to 6 encoder and 6 decoder blocks. (as in AISAYN base model)\n",
        "NUM_ENCODER_BLOCKS = 2  # note: can set to 0 to skip encoder block\n",
        "NUM_DECODER_BLOCKS = 4  # max 6 enc and 6 dec with Colab memory constraints and cuts elsewhere\n",
        "USE_DUAL_DECODERS = False\n",
        "USE_CONVOLUTIONS = False\n",
        "if USE_CONVOLUTIONS:\n",
        "    checkpoint_save_name = 'ConvAtt_model_checkpoints' + NAME_MODIFIER\n",
        "else:\n",
        "    checkpoint_save_name = 'AISAYN_model_checkpoints' + NAME_MODIFIER\n",
        "\n",
        "LOAD_CHECKPOINT_FILE = os.path.join(PARAMETERS.load_checkpoint_dir(), checkpoint_save_name, checkpoint_save_name)\n",
        "SAVE_CHECKPOINT_FILE = os.path.join(PARAMETERS.checkpoint_dir(), checkpoint_save_name, checkpoint_save_name)\n",
        "\n",
        "# note: in Kaggle,\n",
        "# LOAD_CHECKPOINT_FILE points to saved outputs from prev session\n",
        "# SAVE_CHECKPOINT_FILE points to saved outputs from current session"
      ],
      "execution_count": 36,
      "outputs": []
    },
    {
      "cell_type": "markdown",
      "metadata": {
        "id": "h7s5jU6OYwax"
      },
      "source": [
        "Initialize model"
      ]
    },
    {
      "cell_type": "code",
      "metadata": {
        "id": "dNg-2SotL8YE"
      },
      "source": [
        "# Update inputs: remove string keys, as they are not compatible with TPU\n",
        "train_ds_int_index = train_ds.map(lambda x: (x['image'], x['tokenized_InChI'], \n",
        "                                            x['image_id'], x['InChI'])).prefetch(tf.data.AUTOTUNE)\n",
        "valid_ds_int_index = valid_ds.map(lambda x: (x['image'], x['tokenized_InChI'], \n",
        "                                            x['image_id'], x['InChI'])).prefetch(tf.data.AUTOTUNE)"
      ],
      "execution_count": 37,
      "outputs": []
    },
    {
      "cell_type": "code",
      "metadata": {
        "id": "mR9NhMEoNDHi"
      },
      "source": [
        "# callbacks\n",
        "checkpoint = tf.keras.callbacks.ModelCheckpoint(SAVE_CHECKPOINT_FILE, monitor='loss', \n",
        "        save_weights_only=True, save_best_only=False, save_freq='epoch',\n",
        "        options=tf.train.CheckpointOptions(experimental_io_device='/job:localhost'))\n",
        "\n",
        "nan_stop = tf.keras.callbacks.TerminateOnNaN()"
      ],
      "execution_count": 38,
      "outputs": []
    },
    {
      "cell_type": "code",
      "metadata": {
        "id": "MjQALfcqR2y9"
      },
      "source": [
        "def compile_model(model=None, load_checkpoint=True, lr_scale_factor=1.0, label_smoothing=.1):\n",
        "\n",
        "    # compile using distribution strategy\n",
        "    with PARAMETERS.strategy().scope():\n",
        "     \n",
        "        # initialize if no model provided\n",
        "        if model is None:\n",
        "\n",
        "            model = TrainerModel(encoder_blocks=NUM_ENCODER_BLOCKS, \n",
        "                               encoder_dim=ENCODER_ATT_UNITS, \n",
        "                               decoder_blocks=NUM_DECODER_BLOCKS, \n",
        "                               decoder_dim=DECODER_UNITS, \n",
        "                               dual_heads_split_step=USE_DUAL_DECODERS,\n",
        "                               use_convolutions=USE_CONVOLUTIONS,\n",
        "                               parameters=PARAMETERS)\n",
        "\n",
        "            if PARAMETERS.tpu():  \n",
        "        \n",
        "                temp_ds = PARAMETERS.strategy().experimental_distribute_dataset(train_ds_int_index)\n",
        "                temp_ds = iter(temp_ds)\n",
        "                val = next(temp_ds)\n",
        "\n",
        "                # build with new val (inference and training modes)\n",
        "                temp_func_train = tf.function(func=lambda x: model(x, True), experimental_relax_shapes=True,\n",
        "                                        experimental_follow_type_hints=True)\n",
        "                temp_func_inference = tf.function(func=lambda x: model(x, False), experimental_relax_shapes=True,\n",
        "                                        experimental_follow_type_hints=True)\n",
        "\n",
        "                PARAMETERS.strategy().run(temp_func_train, args=[(val[0], val[1])])  # use strategy.run() on TPU\n",
        "                    \n",
        "            else:  \n",
        "                # build with original val\n",
        "                for val in train_ds_int_index.take(1): \n",
        "                    model(val, training=True)\n",
        "\n",
        "            # show summary\n",
        "            print(model.summary())\n",
        "            print('Models initialized.')\n",
        "        \n",
        "        # compiler components\n",
        "        # cyclic modification to AIAYN lr\n",
        "        learning_rate = LRScheduleAIAYN(scale_factor=lr_scale_factor, \n",
        "                                        warmup_steps=5000)  \n",
        "\n",
        "        optimizer = tf.keras.optimizers.Adam(learning_rate,  # params from AIAYN\n",
        "                                             beta_1=0.9, beta_2=0.98, epsilon=10e-9)\n",
        "        \n",
        "        # metrics\n",
        "        edit_dist_metric = EditDistanceMetric()\n",
        "        \n",
        "        # loss with label smoothing\n",
        "        loss_fn = keras.losses.CategoricalCrossentropy(label_smoothing=label_smoothing)\n",
        "\n",
        "        # optimizations\n",
        "        tf.config.optimizer.set_jit(\"autoclustering\")  # XLA compiler optimization\n",
        "\n",
        "        if not PARAMETERS.tpu():\n",
        "            os.environ['TF_GPU_THREAD_MODE'] = 'gpu_private'  # better balances CPU / GPU interaction in tf.data    \n",
        "            optimizer = tf.keras.mixed_precision.LossScaleOptimizer(optimizer)  # required with mixed precision on GPU / CPU. Not used on TPU\n",
        "\n",
        "            # compile       \n",
        "            model.compile(optimizer=optimizer, \n",
        "                            loss=loss_fn,\n",
        "                            metrics=['categorical_accuracy', edit_dist_metric],\n",
        "                            steps_per_execution=8)\n",
        "        else:\n",
        "            # compile (note: EditDistance metric not compatible with TPU)\n",
        "            model.compile(optimizer=optimizer, \n",
        "                          loss=loss_fn,\n",
        "                          metrics=['categorical_accuracy'],\n",
        "                          steps_per_execution=8*PARAMETERS.strategy().num_replicas_in_sync)\n",
        "\n",
        "    if load_checkpoint:\n",
        "        # verify model calls & methods work\n",
        "        if not PARAMETERS.tpu():\n",
        "            model(val, training=False)\n",
        "\n",
        "            # sync weights\n",
        "            # WARNING!: in Kaggle this loads from prev session saved weights\n",
        "            try:\n",
        "                with PARAMETERS.strategy().scope(): \n",
        "                    model.load_weights(LOAD_CHECKPOINT_FILE)  \n",
        "                    pass\n",
        "            except:\n",
        "                print('No weights loaded')  \n",
        "\n",
        "        else:\n",
        "            # sync weights\n",
        "            # WARNING!: in Kaggle this loads from prev session saved weights\n",
        "            try:\n",
        "                with PARAMETERS.strategy().scope(): \n",
        "                    model.load_weights(LOAD_CHECKPOINT_FILE, \n",
        "                                       options=tf.train.CheckpointOptions(experimental_io_device=\"/job:localhost\"))  \n",
        "\n",
        "            except:\n",
        "                print('No weights loaded')    \n",
        "\n",
        "    return model"
      ],
      "execution_count": 39,
      "outputs": []
    },
    {
      "cell_type": "code",
      "metadata": {
        "id": "8WTIcK4vR5rv",
        "colab": {
          "base_uri": "https://localhost:8080/"
        },
        "outputId": "c3743ed2-b6ee-48b3-bc28-4828a5132122"
      },
      "source": [
        "base_model = compile_model(model=None, load_checkpoint=True, \n",
        "                           lr_scale_factor=500.0, label_smoothing=.1)"
      ],
      "execution_count": 47,
      "outputs": [
        {
          "output_type": "stream",
          "text": [
            "Model: \"TrainerModel\"\n",
            "_________________________________________________________________\n",
            "Layer (type)                 Output Shape              Param #   \n",
            "=================================================================\n",
            "string_lookup_5 (StringLooku multiple                  0 (unused)\n",
            "_________________________________________________________________\n",
            "InChIEncoder (Functional)    (None, 200, 512)          101888    \n",
            "_________________________________________________________________\n",
            "ImageFeaturesExtractor (Func (None, 7, 7, 1408)        7768569   \n",
            "_________________________________________________________________\n",
            "ImageEncoder (Functional)    (None, 49, 256)           8195065   \n",
            "_________________________________________________________________\n",
            "EncoderAttention (Functional (None, 49, 256)           791552    \n",
            "_________________________________________________________________\n",
            "DecoderAttention (DecoderAtt multiple                  9469952   \n",
            "_________________________________________________________________\n",
            "DecoderHead (Functional)     (None, None, 199)         204174    \n",
            "=================================================================\n",
            "Total params: 18,762,631\n",
            "Trainable params: 18,695,056\n",
            "Non-trainable params: 67,575\n",
            "_________________________________________________________________\n",
            "None\n",
            "Models initialized.\n"
          ],
          "name": "stdout"
        }
      ]
    },
    {
      "cell_type": "markdown",
      "metadata": {
        "id": "oL0ub_P2ovDL"
      },
      "source": [
        "Inference Functions"
      ]
    },
    {
      "cell_type": "code",
      "metadata": {
        "id": "EGAGTWVKouN8",
        "colab": {
          "base_uri": "https://localhost:8080/"
        },
        "outputId": "56bbd71e-fc8a-49f9-9cc9-b161ffae6d03"
      },
      "source": [
        "def inference(model, dataset, take_num=None, skip_set_num=0, show_sample=False):\n",
        "\n",
        "    with model.parameters.strategy().scope():\n",
        "\n",
        "        generation_fn = model.generation_loop\n",
        "               \n",
        "        # select batches\n",
        "        dataset = dataset.skip(skip_set_num)\n",
        "        if take_num is not None:\n",
        "            dataset = dataset.take(take_num)\n",
        "        \n",
        "        # distribute dataset\n",
        "        distributed_ds = model.parameters.strategy().experimental_distribute_dataset(dataset)\n",
        "        distributed_ds = iter(distributed_ds)\n",
        "\n",
        "        # initialize containers\n",
        "        image_ids_list = []\n",
        "        generated_predictions_list = []\n",
        "        true_InChI_list = []\n",
        "\n",
        "        for val in distributed_ds:\n",
        "            \n",
        "            # unpack ds element (and distribute across replicas if needed)\n",
        "            inputs = (val[0], val[1])  # (image, tokenized InChI)\n",
        "            \n",
        "            image_ids = val[2]\n",
        "            if model.parameters.tpu():\n",
        "                image_ids = model.parameters.strategy().gather(image_ids, axis=0)\n",
        "            \n",
        "            true_InChI = val[3]\n",
        "            if model.parameters.tpu():\n",
        "                true_InChI = model.parameters.strategy().gather(true_InChI, axis=0)\n",
        "\n",
        "            # generate probs\n",
        "            generated_probs = model.parameters.strategy().run(generation_fn, args=[inputs])  # training=False\n",
        "            if model.parameters.tpu():\n",
        "                generated_probs = model.parameters.strategy().gather(generated_probs, axis=0)\n",
        "                generated_probs = tf.squeeze(generated_probs)\n",
        "\n",
        "            # get predicted InChI\n",
        "            generated_predictions = tf.argmax(generated_probs, axis=2)\n",
        "            \n",
        "            # convert predictions to strings\n",
        "            generated_predictions = model.tokens_to_string(generated_predictions)\n",
        "\n",
        "            # decode bytestrings and update containers\n",
        "            image_ids_list.extend([x.decode() for x in image_ids.numpy().tolist()])\n",
        "            generated_predictions_list.extend([x.decode() for x in generated_predictions.numpy().tolist()])\n",
        "            true_InChI_list.extend([x.decode() for x in true_InChI.numpy().tolist()])\n",
        "\n",
        "        # compute Levenshtein scores\n",
        "        lev_score_list = [levenshtein(pred, orig) for (pred, orig)\n",
        "                        in zip(generated_predictions_list, true_InChI_list)]\n",
        "\n",
        "    if show_sample:\n",
        "        print(f'Mean Lev Score: {np.mean(lev_score_list)}\\n')\n",
        "        for i in range(0, 100, 5):\n",
        "            print(generated_predictions_list[i])\n",
        "            print(true_InChI_list[i])\n",
        "            print(lev_score_list[i])\n",
        "            print()\n",
        "\n",
        "    return image_ids_list, generated_predictions_list, true_InChI_list, lev_score_list\n",
        "\n",
        "temp_results = inference(base_model, dataset=train_ds_int_index, take_num=1, show_sample=True)\n"
      ],
      "execution_count": 48,
      "outputs": [
        {
          "output_type": "stream",
          "text": [
            "Mean Lev Score: 123.7822265625\n",
            "\n",
            "\n",
            "InChI=1S/C10H15N3O2/c11-3-9-4-12-5-10(13-9)15-7-8-1-2-14-6-8/h4-5,8H,1-3,6-7,11H2\n",
            "81\n",
            "\n",
            "--,,\n",
            "InChI=1S/C22H24N4O2/c27-21(9-4-11-25-12-10-23-16-25)24-19-13-22(28)26(15-19)14-18-7-3-6-17-5-1-2-8-20(17)18/h1-3,5-8,10,12,16,19H,4,9,11,13-15H2,(H,24,27)/t19-/m1/s1\n",
            "161\n",
            "\n",
            "\n",
            "InChI=1S/C12H13N3O3S2/c16-12-15-10(7-19-12)6-14-20(17,18)11-2-1-8-4-13-5-9(8)3-11/h1-3,7,13-14H,4-6H2,(H,15,16)\n",
            "111\n",
            "\n",
            "\n",
            "InChI=1S/C14H18O/c1-2-3-10-15-14-9-8-12-6-4-5-7-13(12)11-14/h4,6,8-9,11H,2-3,5,7,10H2,1H3\n",
            "89\n",
            "\n",
            "\n",
            "InChI=1S/C17H17FN4S/c1-11-3-2-4-13(9-11)20-17(19)22-21-15-7-8-23-16-6-5-12(18)10-14(15)16/h2-6,9-10H,7-8H2,1H3,(H3,19,20,22)/b21-15+\n",
            "132\n",
            "\n",
            "\n",
            "InChI=1S/C8H5F6NO/c1-16-5-3(6(9)10)2-15-7(11)4(5)8(12,13)14/h2,6H,1H3\n",
            "69\n",
            "\n",
            "\n",
            "InChI=1S/C18H22N2O5/c1-11-16(12(2)25-20-11)18(22)24-13(3)17(21)19-10-9-14-5-7-15(23-4)8-6-14/h5-8,13H,9-10H2,1-4H3,(H,19,21)/t13-/m0/s1\n",
            "135\n",
            "\n",
            "14--/22\n",
            "InChI=1S/C16H23N/c1-4-6-15-7-8-16(13-14(15)5-2)9-11-17(3)12-10-16/h1,5-6H,7-13H2,2-3H3/b14-5-,15-6-\n",
            "92\n",
            "\n",
            ",,,,,,,,,,,\n",
            "InChI=1S/C27H46N6O6/c1-20(32(14-11-28)18-23(34)38-26(2,3)4)16-31(13-9-8-10-21(29)25(36)37)17-22-30-12-15-33(22)19-24(35)39-27(5,6)7/h11-12,14-15,21H,1,8-10,13,16-19,28-29H2,2-7H3,(H,36,37)/b14-11-/t21-/m0/s1\n",
            "196\n",
            "\n",
            "\n",
            "InChI=1S/C14H30N2/c1-4-6-8-9-10-11-14(3,13-15)16-12-7-5-2/h5,16H,2,4,6-13,15H2,1,3H3\n",
            "84\n",
            "\n",
            "\n",
            "InChI=1S/C24H30N2O/c1-23(2,27)13-12-20-8-10-21(11-9-20)18-26-16-14-24(19-25,15-17-26)22-6-4-3-5-7-22/h3-11,27H,12-18H2,1-2H3\n",
            "124\n",
            "\n",
            "\n",
            "InChI=1S/C12H14ClFN2/c1-2-3-4-5-12(16-15)10-7-6-9(14)8-11(10)13/h6-8,12,16H,4-5,15H2,1H3\n",
            "88\n",
            "\n",
            "2,,,,,,,,,,,,,,,,,,,,,,,,,,,\n",
            "InChI=1S/C22H21F3N6O/c1-4-13-5-12(10-26)6-15(23)19(13)31(3)17-7-16-18(27-11-30(16)2)20(28-17)29-21(32)14-8-22(24,25)9-14/h5-7,11,14H,4,8-9H2,1-3H3,(H,28,29,32)\n",
            "148\n",
            "\n",
            ",\n",
            "InChI=1S/C22H23NO4/c1-16-7-9-19(10-8-16)26-13-14-27-22(25)15-21-20-6-4-3-5-18(20)11-12-23(21)17(2)24/h3-12,21H,13-15H2,1-2H3/t21-/m1/s1\n",
            "134\n",
            "\n",
            "2\n",
            "InChI=1S/C21H29FN2O3/c1-6-23(7-2)12-13-24-17(14-10-8-9-11-15(14)22)16(18(25)20(24)27)19(26)21(3,4)5/h8-11,17,25H,6-7,12-13H2,1-5H3\n",
            "129\n",
            "\n",
            ",\n",
            "InChI=1S/C33H29NO/c1-33(29-18-10-4-11-19-29)24-28(23-22-26-14-6-2-7-15-26)31(32(35)27-16-8-3-9-17-27)25-34(33)30-20-12-5-13-21-30/h2-21,24-25H,22-23H2,1H3\n",
            "153\n",
            "\n",
            "\n",
            "InChI=1S/C19H16ClF3N4O3S/c1-31(29,30)26-14-6-2-4-12(8-14)10-24-18(28)16-11-25-27(17(16)19(21,22)23)15-7-3-5-13(20)9-15/h2-9,11,26H,10H2,1H3,(H,24,28)\n",
            "149\n",
            "\n",
            "-\n",
            "InChI=1S/C14H14N2O2/c1-16-8-11(9-4-2-3-5-12(9)16)10-6-7-13(17)15-14(10)18/h2-5,8,10H,6-7H2,1H3,(H,15,17,18)\n",
            "106\n",
            "\n",
            ",,\n",
            "InChI=1S/C25H19ClFN3O5/c1-34-21-13-16(26)11-15(23(21)35-14-22(31)28-20-10-6-5-9-19(20)27)12-18-24(32)29-30(25(18)33)17-7-3-2-4-8-17/h2-13H,14H2,1H3,(H,28,31)(H,29,32)/b18-12+\n",
            "172\n",
            "\n",
            "\n",
            "InChI=1S/C14H21N3O2/c1-9-4-3-5-11(6-9)13-15-14(19-16-13)12-7-17(8-12)10(2)18/h9,11-12H,3-8H2,1-2H3\n",
            "98\n",
            "\n"
          ],
          "name": "stdout"
        }
      ]
    },
    {
      "cell_type": "markdown",
      "metadata": {
        "id": "xsmcfhvEvdUP"
      },
      "source": [
        "Test inference speed"
      ]
    },
    {
      "cell_type": "code",
      "metadata": {
        "id": "m6BmY63-QSwJ",
        "colab": {
          "base_uri": "https://localhost:8080/"
        },
        "outputId": "97753722-f5b9-41dc-f895-384bec8e6549"
      },
      "source": [
        "#\"\"\"\n",
        "# test inference speed - time for 'take_num' batches\n",
        "%timeit inference(base_model, dataset=train_ds_int_index, take_num=2, skip_set_num=0)\n",
        "#\"\"\""
      ],
      "execution_count": 42,
      "outputs": [
        {
          "output_type": "stream",
          "text": [
            "1 loop, best of 5: 5.72 s per loop\n"
          ],
          "name": "stdout"
        }
      ]
    },
    {
      "cell_type": "code",
      "metadata": {
        "id": "yanU6T8tf1ht"
      },
      "source": [
        "if not PARAMETERS.tpu():\n",
        "    tensorboard = tf.keras.callbacks.TensorBoard(log_dir='./logs/')\n",
        "    %tensorboard --logdir './logs/'"
      ],
      "execution_count": 43,
      "outputs": []
    },
    {
      "cell_type": "code",
      "metadata": {
        "id": "aFBKRQowIWqq",
        "colab": {
          "base_uri": "https://localhost:8080/",
          "height": 52
        },
        "outputId": "ebe1fd29-8816-412b-f366-b0bcc446c85a"
      },
      "source": [
        "\"\"\"\n",
        "# Full model: inference speed (with beam)\n",
        "%%timeit\n",
        "num_batches = 3\n",
        "\n",
        "for val in train_ds.unbatch().batch(PARAMETERS.inference_batch_size()).take(num_batches): \n",
        "    im_id, preds = (base_model.predict(val))\n",
        "\"\"\""
      ],
      "execution_count": 44,
      "outputs": [
        {
          "output_type": "execute_result",
          "data": {
            "application/vnd.google.colaboratory.intrinsic+json": {
              "type": "string"
            },
            "text/plain": [
              "'\\n# Full model: inference speed (with beam)\\n%%timeit\\nnum_batches = 3\\n\\nfor val in train_ds.unbatch().batch(PARAMETERS.inference_batch_size()).take(num_batches): \\n    im_id, preds = (base_model.predict(val))\\n'"
            ]
          },
          "metadata": {
            "tags": []
          },
          "execution_count": 44
        }
      ]
    },
    {
      "cell_type": "markdown",
      "metadata": {
        "id": "otxdN02mf1ht"
      },
      "source": [
        "# Training"
      ]
    },
    {
      "cell_type": "markdown",
      "metadata": {
        "id": "Pnw2vkOhCFXM"
      },
      "source": [
        "Prepare dataset for training"
      ]
    },
    {
      "cell_type": "code",
      "metadata": {
        "id": "xa48CRQtCFkN"
      },
      "source": [
        "# Dataset: Random Perturbations and One-Hot-Encoding\n",
        "# note: one-hot needed so we can use label smoothing in CrossEntropy Loss\n",
        "tf.keras.mixed_precision.set_global_policy('float32')  # temporarily removed mixed precision\n",
        "\n",
        "train_ds_prepared = train_ds_int_index\n",
        "valid_ds_prepared = valid_ds_int_index\n",
        "\n",
        "# define transformations\n",
        "\"\"\"\n",
        "rotate = keras.layers.experimental.preprocessing.RandomRotation(\n",
        "            factor=(-0.5, 0.5), fill_mode='constant')\n",
        "contrast = keras.layers.experimental.preprocessing.RandomContrast(factor=.1)\n",
        "\n",
        "# apply transformations\n",
        "train_ds_prepared = train_ds_prepared.map(lambda w, x, y, z: (rotate(w), x, y, z),\n",
        "                                           num_parallel_calls=tf.data.AUTOTUNE)\n",
        "train_ds_prepared = train_ds_prepared.map(lambda w, x: (contrast(w), x, y, z),\n",
        "                                          num_parallel_calls=tf.data.AUTOTUNE)\n",
        "\"\"\"\n",
        "\n",
        "# create one-hot encoded targets (allows label smoothing)\n",
        "depth = base_model.vocab_size\n",
        "one_hot = keras.layers.Lambda(lambda x: tf.one_hot(x, depth=depth)) \n",
        "\n",
        "train_ds_prepared = train_ds_prepared.map(lambda w, x, y, z: ((w, x), one_hot(x)),\n",
        "                                          num_parallel_calls=tf.data.AUTOTUNE)\\\n",
        "                                          .prefetch(tf.data.AUTOTUNE)\n",
        "\n",
        "valid_ds_prepared = valid_ds_int_index.map(lambda w, x, y, z: ((w, x), one_hot(x)),\n",
        "                                          num_parallel_calls=tf.data.AUTOTUNE)\\\n",
        "                                          .prefetch(tf.data.AUTOTUNE)\n",
        "\n",
        "# re-enable to mixed precision\n",
        "tf.keras.mixed_precision.set_global_policy(PARAMETERS.mixed_precision())"
      ],
      "execution_count": 45,
      "outputs": []
    },
    {
      "cell_type": "markdown",
      "metadata": {
        "id": "WN8MF9xt4uqG"
      },
      "source": [
        "Train base model"
      ]
    },
    {
      "cell_type": "code",
      "metadata": {
        "id": "MdeuljeJf1h1"
      },
      "source": [
        "\"\"\"\n",
        "Note: validation results use inference step char generation. Training uses \n",
        "teacher-fed inputs.\n",
        "\"\"\"\n",
        "\n",
        "# Note: training accuracy based on teacher-training, not full generation loop\n",
        "\n",
        "# Note: label smoothing is helpful in training, but needs to be removed \n",
        "# in the final stages\n",
        "\n",
        "# Train base model (teacher-fed training, prediction-fed validation, no beam update)\n",
        "if not PARAMETERS.tpu():\n",
        "    steps_per_epoch = 1024 * max(1, PARAMETERS.batch_size() // 16)\n",
        "    validation_steps = 128\n",
        "    callbacks=[checkpoint, nan_stop, tensorboard]\n",
        "    validation_freq = 6\n",
        "    lr_scale_factor=10.\n",
        "\n",
        "else:\n",
        "    steps_per_epoch = 128 * max(1, 128 // PARAMETERS.batch_size())\n",
        "    validation_steps = 32\n",
        "    callbacks=[checkpoint, nan_stop]\n",
        "    validation_freq = 6\n",
        "    lr_scale_factor=50.\n",
        "\n",
        "\n",
        "epoch_multiple = 100\n",
        "epochs = epoch_multiple * int(1.8 * 1e6) // (steps_per_epoch * PARAMETERS.batch_size())\n",
        "    \n",
        "# recompile (optional)\n",
        "#base_model = compile_model(model=base_model, load_checkpoint=True, lr_scale_factor=lr_scale_factor, label_smoothing=0.0)\n",
        "\n",
        "# (Optional: focused training.)\n",
        "base_model.ImageFeaturesExtractor.trainable = True  \n",
        "base_model.get_layer('EncoderAttention').trainable = True\n",
        "base_model.get_layer('DecoderAttention').trainable = True\n",
        "base_model.get_layer('DecoderHead').trainable = True\n",
        "\n",
        "# train\n",
        "history = base_model.fit(train_ds_prepared.repeat(),\n",
        "                         validation_data=valid_ds_prepared.repeat(),\n",
        "                         epochs=epochs,\n",
        "                         steps_per_epoch=steps_per_epoch,\n",
        "                         validation_freq=validation_freq, \n",
        "                         validation_steps=validation_steps, \n",
        "                         callbacks=callbacks,\n",
        "                         verbose=1)"
      ],
      "execution_count": null,
      "outputs": []
    },
    {
      "cell_type": "markdown",
      "metadata": {
        "id": "yssoAs6jP2L3"
      },
      "source": [
        "# New Section"
      ]
    },
    {
      "cell_type": "markdown",
      "metadata": {
        "id": "G7y-PoC1ztE7"
      },
      "source": [
        "TPU-safe saving to local directory"
      ]
    },
    {
      "cell_type": "code",
      "metadata": {
        "id": "PDaC2XbXnSS4"
      },
      "source": [
        "base_model.save_weights(os.path.join(PARAMETERS.checkpoint_dir(), checkpoint_save_name, 'saved_model'), \n",
        "                        options=tf.saved_model.SaveOptions(experimental_io_device='/job:localhost'))"
      ],
      "execution_count": null,
      "outputs": []
    },
    {
      "cell_type": "code",
      "metadata": {
        "id": "oz66tXyM3LY6"
      },
      "source": [
        "base_model.load_weights(os.path.join(PARAMETERS.checkpoint_dir(), checkpoint_save_name, 'saved_model'), \n",
        "                        options=tf.saved_model.SaveOptions(experimental_io_device='/job:localhost'))"
      ],
      "execution_count": null,
      "outputs": []
    },
    {
      "cell_type": "markdown",
      "metadata": {
        "id": "4s1Lgn1e4wxz"
      },
      "source": [
        "Train beam update model"
      ]
    },
    {
      "cell_type": "code",
      "metadata": {
        "id": "otz8JJdB3QZ6"
      },
      "source": [
        "\"\"\"\n",
        "Not yet implemented\n",
        "\"\"\""
      ],
      "execution_count": null,
      "outputs": []
    },
    {
      "cell_type": "markdown",
      "metadata": {
        "id": "Sbvzr5rdmjgs"
      },
      "source": [
        "# Inference\n",
        "\n",
        "Here we define function to conduct inference on the test set. Results are saved to \"submission.csv\".\n",
        "\n",
        "Intermediate results are saved at regular intervals to. This allows inference to be conducted in stages and is a safeguard in case of interruptions before the full set has been processed. "
      ]
    },
    {
      "cell_type": "code",
      "metadata": {
        "id": "mVm4YazBsFIB"
      },
      "source": [
        "def make_inference_progress(dataset, model, return_lev_score=True, save_freq=50, parameters=PARAMETERS):\n",
        "\n",
        "    batch_size = 1024\n",
        "    est_num_batches = 2*10e7 // batch_size\n",
        "    take_num = 100\n",
        "\n",
        "    #initialize new dataframe\n",
        "    predictions_df = pd.DataFrame(columns=['image_id', 'InChI', 'lev_score'])\n",
        "\n",
        "\n",
        "    for i in range(int(est_num_batches // take_num)):\n",
        "        try:\n",
        "\n",
        "             # get predictions\n",
        "            inference_outputs = run_inference(model, dataset, return_lev_score=True, \n",
        "                                              take_num=take_num, skip_set_num=i)\n",
        "            \n",
        "            im_id, pred, true_val, lev_score  = inference_outputs[:]\n",
        "\n",
        "            # add to dataframe\n",
        "            new_preds = pd.DataFrame({'image_id': im_id, 'InChI': pred, 'lev_score': lev_score})\n",
        "            predictions_df = predictions_df.append(new_preds)\n",
        "\n",
        "            # save to CSV\n",
        "            if i % save_freq == 0:\n",
        "                predictions_df = predictions_df.drop_duplicates(subset='image_id', keep='last')\n",
        "                predictions_df[['image_id', 'InChI']].to_csv(PARAMETERS.csv_save_dir() + 'submission.csv', index=False)\n",
        "                print(f'iteration {i}')\n",
        "\n",
        "        except:\n",
        "            print(f'completed at step {i}')\n",
        "            break\n",
        "\n",
        "    return predictions_df"
      ],
      "execution_count": null,
      "outputs": []
    },
    {
      "cell_type": "markdown",
      "metadata": {
        "id": "xN9S2TyMy__W"
      },
      "source": [
        "Load previosuly generated predictions"
      ]
    },
    {
      "cell_type": "code",
      "metadata": {
        "id": "6iSlSFmHy9mX"
      },
      "source": [
        "try:\n",
        "    predictions_df = pd.read_csv(PARAMETERS.csv_save_dir() + 'submission.csv')\n",
        "except:\n",
        "    predictions_df = pd.DataFrame({'image_id':[], 'InChI':[]}, dtype=str)"
      ],
      "execution_count": null,
      "outputs": []
    },
    {
      "cell_type": "markdown",
      "metadata": {
        "id": "xlq0OYsqzHMA"
      },
      "source": [
        "Generate additional predictions"
      ]
    },
    {
      "cell_type": "code",
      "metadata": {
        "id": "CplWdHecmiRQ"
      },
      "source": [
        "\"\"\" On first pass or to start from scratch, initialize the dataframe with:\n",
        "predictions_df = pd.DataFrame({'image_id':[], 'InChI':[]}, dtype=str)\n",
        "\"\"\"\n",
        "\n",
        "predictions_df = make_inference_progress(predictions_df, save_freq=100, \n",
        "                                         num_batches=1, starting_batch=0, \n",
        "                                         parameters=PARAMETERS)\n",
        "predictions_df"
      ],
      "execution_count": null,
      "outputs": []
    }
  ]
}